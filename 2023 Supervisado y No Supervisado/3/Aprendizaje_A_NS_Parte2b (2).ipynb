{
 "cells": [
  {
   "cell_type": "markdown",
   "metadata": {},
   "source": [
    "# <p style=\"text-align:center;\">Supervisado</p>"
   ]
  },
  {
   "cell_type": "markdown",
   "metadata": {},
   "source": [
    "**Todo ejercicio debe tener un análisis fundamentado en la teoría vista en la materia, dicho análisis sera parte del informe a entregar en pdf**\n",
    "\n",
    "<span style=\"color:blue\">*Se recomienda hacer uso de las herramientas vistas en los demos de la materia.*</span>"
   ]
  },
  {
   "cell_type": "markdown",
   "metadata": {},
   "source": [
    "**Objetivos:** \n",
    "- Implementar los modelos random forest y redes neuronales para clasificar las galaxias en tipo Elípticas y Espirales e Irregulares\n",
    "- Comparar la performance obtenida con los modelos vistos en el anterior práctico y los nuevos modelos de este práctico."
   ]
  },
  {
   "cell_type": "markdown",
   "metadata": {},
   "source": [
    "# Paquetes necesarios "
   ]
  },
  {
   "cell_type": "markdown",
   "metadata": {},
   "source": [
    "# Data set\n",
    "\n",
    "Se continua con el dataset previamente curado y usado en el anterior práctico. \n",
    "Las variables físicas que caracterizan a las galaxias son:\n",
    "- **distancia_L**: Es la distancia a la galaxia, su calculo hace uso del brillo de la galaxia\n",
    "- **Mag_abs**: Es el brillo que tendría la galaxia a una distancia fija (10 Mpc)\n",
    "- **objID**: Es el id de las galaxias\n",
    "- **rac y dec** = Posición angular, rac de 0 a 360 y dec de -90 a 90\n",
    "- **modelMag_u,modelMag_g, modelMag_r,modelMag_i,modelMag_z**= Estas variables representan una fracción de la luz total que observamos de las galaxias según su frecuencia (como por ejemplo, la frecuencia de radio, para más información [wiki](https://es.wikipedia.org/wiki/Espectro_visible))\n",
    "- **petroR90_r** = Es una medida del tamaño de la galaxia\n",
    "- **color**= Como su nombre lo indica es el color más predominante en la galaxia\n",
    "- **elíptica, espiral, irregular**= Estas columnas identifican el tipo de morfología de las galaxias. Si el valor de una de estas tres columnas es 1, entonces la galaxia tiene esa morfología y las dos restantes tendrán el valor 0. \n"
   ]
  },
  {
   "cell_type": "markdown",
   "metadata": {},
   "source": [
    "\n",
    "<span style=\"color:red\">**Cargue el conjunto de datos obtenido en la parte1.**</span>  \n"
   ]
  },
  {
   "cell_type": "code",
   "execution_count": 1,
   "metadata": {},
   "outputs": [],
   "source": [
    "import numpy as np\n",
    "import seaborn as sns\n",
    "import matplotlib.pyplot as plt\n",
    "import pandas as pd\n",
    "\n",
    "from sklearn.preprocessing import StandardScaler, LabelEncoder\n",
    "from sklearn.impute import SimpleImputer\n",
    "from sklearn.model_selection import train_test_split, GridSearchCV, StratifiedKFold\n",
    "from sklearn.metrics import accuracy_score, ConfusionMatrixDisplay, classification_report"
   ]
  },
  {
   "cell_type": "markdown",
   "metadata": {},
   "source": [
    "# Target"
   ]
  },
  {
   "cell_type": "markdown",
   "metadata": {},
   "source": [
    "Usen como Target la clase de tipo morfológico de las galaxias."
   ]
  },
  {
   "cell_type": "code",
   "execution_count": 2,
   "metadata": {},
   "outputs": [],
   "source": [
    "def galaxy_morf(row):\n",
    "    if row[\"elliptical\"]:\n",
    "        return \"E\"\n",
    "    elif row[\"spiral\"]:\n",
    "        return \"S\"\n",
    "    else:\n",
    "        return \"I\"\n",
    "    \n",
    "def num_type(row):\n",
    "    if row[\"type\"] == \"I\":\n",
    "        return 1\n",
    "    elif row[\"type\"] == \"S\":\n",
    "        return 2\n",
    "    else:\n",
    "        return 3"
   ]
  },
  {
   "cell_type": "code",
   "execution_count": 3,
   "metadata": {
    "scrolled": true
   },
   "outputs": [
    {
     "data": {
      "text/html": [
       "<div>\n",
       "<style scoped>\n",
       "    .dataframe tbody tr th:only-of-type {\n",
       "        vertical-align: middle;\n",
       "    }\n",
       "\n",
       "    .dataframe tbody tr th {\n",
       "        vertical-align: top;\n",
       "    }\n",
       "\n",
       "    .dataframe thead th {\n",
       "        text-align: right;\n",
       "    }\n",
       "</style>\n",
       "<table border=\"1\" class=\"dataframe\">\n",
       "  <thead>\n",
       "    <tr style=\"text-align: right;\">\n",
       "      <th></th>\n",
       "      <th>objID</th>\n",
       "      <th>ra</th>\n",
       "      <th>dec</th>\n",
       "      <th>modelMag_u</th>\n",
       "      <th>modelMag_g</th>\n",
       "      <th>modelMag_r</th>\n",
       "      <th>modelMag_i</th>\n",
       "      <th>modelMag_z</th>\n",
       "      <th>petroR90_r</th>\n",
       "      <th>Color</th>\n",
       "      <th>elliptical</th>\n",
       "      <th>spiral</th>\n",
       "      <th>uncertain</th>\n",
       "      <th>distancia_L</th>\n",
       "      <th>Mag_abs</th>\n",
       "    </tr>\n",
       "  </thead>\n",
       "  <tbody>\n",
       "    <tr>\n",
       "      <th>0</th>\n",
       "      <td>1.237674e+18</td>\n",
       "      <td>119.822479</td>\n",
       "      <td>42.008528</td>\n",
       "      <td>17.36539</td>\n",
       "      <td>15.46586</td>\n",
       "      <td>14.54658</td>\n",
       "      <td>14.07490</td>\n",
       "      <td>13.69937</td>\n",
       "      <td>18.121160</td>\n",
       "      <td>-2.818807</td>\n",
       "      <td>1.0</td>\n",
       "      <td>0.0</td>\n",
       "      <td>0.0</td>\n",
       "      <td>135.131916</td>\n",
       "      <td>-21.191136</td>\n",
       "    </tr>\n",
       "    <tr>\n",
       "      <th>1</th>\n",
       "      <td>1.237674e+18</td>\n",
       "      <td>118.185239</td>\n",
       "      <td>33.699089</td>\n",
       "      <td>19.95136</td>\n",
       "      <td>18.35397</td>\n",
       "      <td>17.54043</td>\n",
       "      <td>17.05026</td>\n",
       "      <td>16.71222</td>\n",
       "      <td>3.657189</td>\n",
       "      <td>-2.410933</td>\n",
       "      <td>0.0</td>\n",
       "      <td>0.0</td>\n",
       "      <td>1.0</td>\n",
       "      <td>153.893111</td>\n",
       "      <td>-18.473102</td>\n",
       "    </tr>\n",
       "    <tr>\n",
       "      <th>2</th>\n",
       "      <td>1.237658e+18</td>\n",
       "      <td>129.109544</td>\n",
       "      <td>4.654070</td>\n",
       "      <td>17.07165</td>\n",
       "      <td>15.83995</td>\n",
       "      <td>15.33272</td>\n",
       "      <td>15.07332</td>\n",
       "      <td>14.92688</td>\n",
       "      <td>17.837670</td>\n",
       "      <td>-1.738927</td>\n",
       "      <td>0.0</td>\n",
       "      <td>1.0</td>\n",
       "      <td>0.0</td>\n",
       "      <td>84.249297</td>\n",
       "      <td>-19.301402</td>\n",
       "    </tr>\n",
       "    <tr>\n",
       "      <th>3</th>\n",
       "      <td>1.237674e+18</td>\n",
       "      <td>120.110719</td>\n",
       "      <td>42.078653</td>\n",
       "      <td>19.79620</td>\n",
       "      <td>17.75608</td>\n",
       "      <td>17.02625</td>\n",
       "      <td>16.65317</td>\n",
       "      <td>16.40043</td>\n",
       "      <td>7.058877</td>\n",
       "      <td>-2.769947</td>\n",
       "      <td>0.0</td>\n",
       "      <td>0.0</td>\n",
       "      <td>1.0</td>\n",
       "      <td>97.626611</td>\n",
       "      <td>-17.957224</td>\n",
       "    </tr>\n",
       "    <tr>\n",
       "      <th>4</th>\n",
       "      <td>1.237651e+18</td>\n",
       "      <td>122.677351</td>\n",
       "      <td>48.918774</td>\n",
       "      <td>18.47516</td>\n",
       "      <td>17.39154</td>\n",
       "      <td>16.99343</td>\n",
       "      <td>16.77378</td>\n",
       "      <td>16.65345</td>\n",
       "      <td>7.496475</td>\n",
       "      <td>-1.481728</td>\n",
       "      <td>0.0</td>\n",
       "      <td>0.0</td>\n",
       "      <td>1.0</td>\n",
       "      <td>119.172834</td>\n",
       "      <td>-18.383764</td>\n",
       "    </tr>\n",
       "    <tr>\n",
       "      <th>5</th>\n",
       "      <td>1.237658e+18</td>\n",
       "      <td>122.189022</td>\n",
       "      <td>37.330341</td>\n",
       "      <td>19.01056</td>\n",
       "      <td>17.81912</td>\n",
       "      <td>17.38598</td>\n",
       "      <td>17.09107</td>\n",
       "      <td>16.96071</td>\n",
       "      <td>7.394811</td>\n",
       "      <td>-1.624582</td>\n",
       "      <td>0.0</td>\n",
       "      <td>0.0</td>\n",
       "      <td>1.0</td>\n",
       "      <td>126.403332</td>\n",
       "      <td>-18.125019</td>\n",
       "    </tr>\n",
       "    <tr>\n",
       "      <th>6</th>\n",
       "      <td>1.237658e+18</td>\n",
       "      <td>125.727647</td>\n",
       "      <td>4.312471</td>\n",
       "      <td>19.62410</td>\n",
       "      <td>17.80488</td>\n",
       "      <td>17.01490</td>\n",
       "      <td>16.59137</td>\n",
       "      <td>16.47210</td>\n",
       "      <td>4.984677</td>\n",
       "      <td>-2.609200</td>\n",
       "      <td>0.0</td>\n",
       "      <td>0.0</td>\n",
       "      <td>1.0</td>\n",
       "      <td>85.838714</td>\n",
       "      <td>-17.690295</td>\n",
       "    </tr>\n",
       "    <tr>\n",
       "      <th>7</th>\n",
       "      <td>1.237662e+18</td>\n",
       "      <td>254.177384</td>\n",
       "      <td>19.697629</td>\n",
       "      <td>19.42895</td>\n",
       "      <td>17.78255</td>\n",
       "      <td>17.12358</td>\n",
       "      <td>16.75121</td>\n",
       "      <td>16.47890</td>\n",
       "      <td>7.947685</td>\n",
       "      <td>-2.305372</td>\n",
       "      <td>0.0</td>\n",
       "      <td>0.0</td>\n",
       "      <td>1.0</td>\n",
       "      <td>152.411164</td>\n",
       "      <td>-18.839109</td>\n",
       "    </tr>\n",
       "    <tr>\n",
       "      <th>8</th>\n",
       "      <td>1.237666e+18</td>\n",
       "      <td>206.199904</td>\n",
       "      <td>25.455504</td>\n",
       "      <td>17.15307</td>\n",
       "      <td>16.34328</td>\n",
       "      <td>16.07546</td>\n",
       "      <td>15.88867</td>\n",
       "      <td>15.74999</td>\n",
       "      <td>12.176090</td>\n",
       "      <td>-1.077606</td>\n",
       "      <td>0.0</td>\n",
       "      <td>1.0</td>\n",
       "      <td>0.0</td>\n",
       "      <td>116.925709</td>\n",
       "      <td>-19.241798</td>\n",
       "    </tr>\n",
       "    <tr>\n",
       "      <th>9</th>\n",
       "      <td>1.237664e+18</td>\n",
       "      <td>24.422490</td>\n",
       "      <td>1.025748</td>\n",
       "      <td>18.98651</td>\n",
       "      <td>17.05614</td>\n",
       "      <td>16.19533</td>\n",
       "      <td>15.78131</td>\n",
       "      <td>15.44931</td>\n",
       "      <td>7.826744</td>\n",
       "      <td>-2.791182</td>\n",
       "      <td>0.0</td>\n",
       "      <td>1.0</td>\n",
       "      <td>0.0</td>\n",
       "      <td>136.929407</td>\n",
       "      <td>-19.562757</td>\n",
       "    </tr>\n",
       "  </tbody>\n",
       "</table>\n",
       "</div>"
      ],
      "text/plain": [
       "          objID          ra        dec  modelMag_u  modelMag_g  modelMag_r   \n",
       "0  1.237674e+18  119.822479  42.008528    17.36539    15.46586    14.54658  \\\n",
       "1  1.237674e+18  118.185239  33.699089    19.95136    18.35397    17.54043   \n",
       "2  1.237658e+18  129.109544   4.654070    17.07165    15.83995    15.33272   \n",
       "3  1.237674e+18  120.110719  42.078653    19.79620    17.75608    17.02625   \n",
       "4  1.237651e+18  122.677351  48.918774    18.47516    17.39154    16.99343   \n",
       "5  1.237658e+18  122.189022  37.330341    19.01056    17.81912    17.38598   \n",
       "6  1.237658e+18  125.727647   4.312471    19.62410    17.80488    17.01490   \n",
       "7  1.237662e+18  254.177384  19.697629    19.42895    17.78255    17.12358   \n",
       "8  1.237666e+18  206.199904  25.455504    17.15307    16.34328    16.07546   \n",
       "9  1.237664e+18   24.422490   1.025748    18.98651    17.05614    16.19533   \n",
       "\n",
       "   modelMag_i  modelMag_z  petroR90_r     Color  elliptical  spiral   \n",
       "0    14.07490    13.69937   18.121160 -2.818807         1.0     0.0  \\\n",
       "1    17.05026    16.71222    3.657189 -2.410933         0.0     0.0   \n",
       "2    15.07332    14.92688   17.837670 -1.738927         0.0     1.0   \n",
       "3    16.65317    16.40043    7.058877 -2.769947         0.0     0.0   \n",
       "4    16.77378    16.65345    7.496475 -1.481728         0.0     0.0   \n",
       "5    17.09107    16.96071    7.394811 -1.624582         0.0     0.0   \n",
       "6    16.59137    16.47210    4.984677 -2.609200         0.0     0.0   \n",
       "7    16.75121    16.47890    7.947685 -2.305372         0.0     0.0   \n",
       "8    15.88867    15.74999   12.176090 -1.077606         0.0     1.0   \n",
       "9    15.78131    15.44931    7.826744 -2.791182         0.0     1.0   \n",
       "\n",
       "   uncertain  distancia_L    Mag_abs  \n",
       "0        0.0   135.131916 -21.191136  \n",
       "1        1.0   153.893111 -18.473102  \n",
       "2        0.0    84.249297 -19.301402  \n",
       "3        1.0    97.626611 -17.957224  \n",
       "4        1.0   119.172834 -18.383764  \n",
       "5        1.0   126.403332 -18.125019  \n",
       "6        1.0    85.838714 -17.690295  \n",
       "7        1.0   152.411164 -18.839109  \n",
       "8        0.0   116.925709 -19.241798  \n",
       "9        0.0   136.929407 -19.562757  "
      ]
     },
     "execution_count": 3,
     "metadata": {},
     "output_type": "execute_result"
    }
   ],
   "source": [
    "data = pd.read_csv('galaxias_2.csv') #usamos el dataset curado en el entregable 2\n",
    "data.head(10)"
   ]
  },
  {
   "cell_type": "code",
   "execution_count": 4,
   "metadata": {},
   "outputs": [],
   "source": [
    "# Clases\n",
    "data[\"type\"] = data.apply(galaxy_morf, axis=1)"
   ]
  },
  {
   "cell_type": "code",
   "execution_count": 5,
   "metadata": {},
   "outputs": [
    {
     "data": {
      "text/html": [
       "<div>\n",
       "<style scoped>\n",
       "    .dataframe tbody tr th:only-of-type {\n",
       "        vertical-align: middle;\n",
       "    }\n",
       "\n",
       "    .dataframe tbody tr th {\n",
       "        vertical-align: top;\n",
       "    }\n",
       "\n",
       "    .dataframe thead th {\n",
       "        text-align: right;\n",
       "    }\n",
       "</style>\n",
       "<table border=\"1\" class=\"dataframe\">\n",
       "  <thead>\n",
       "    <tr style=\"text-align: right;\">\n",
       "      <th></th>\n",
       "      <th>objID</th>\n",
       "      <th>ra</th>\n",
       "      <th>dec</th>\n",
       "      <th>modelMag_u</th>\n",
       "      <th>modelMag_g</th>\n",
       "      <th>modelMag_r</th>\n",
       "      <th>modelMag_i</th>\n",
       "      <th>modelMag_z</th>\n",
       "      <th>petroR90_r</th>\n",
       "      <th>Color</th>\n",
       "      <th>elliptical</th>\n",
       "      <th>spiral</th>\n",
       "      <th>uncertain</th>\n",
       "      <th>distancia_L</th>\n",
       "      <th>Mag_abs</th>\n",
       "      <th>type</th>\n",
       "      <th>target</th>\n",
       "    </tr>\n",
       "  </thead>\n",
       "  <tbody>\n",
       "    <tr>\n",
       "      <th>0</th>\n",
       "      <td>1.237674e+18</td>\n",
       "      <td>119.822479</td>\n",
       "      <td>42.008528</td>\n",
       "      <td>17.36539</td>\n",
       "      <td>15.46586</td>\n",
       "      <td>14.54658</td>\n",
       "      <td>14.07490</td>\n",
       "      <td>13.69937</td>\n",
       "      <td>18.121160</td>\n",
       "      <td>-2.818807</td>\n",
       "      <td>1.0</td>\n",
       "      <td>0.0</td>\n",
       "      <td>0.0</td>\n",
       "      <td>135.131916</td>\n",
       "      <td>-21.191136</td>\n",
       "      <td>E</td>\n",
       "      <td>3</td>\n",
       "    </tr>\n",
       "    <tr>\n",
       "      <th>1</th>\n",
       "      <td>1.237674e+18</td>\n",
       "      <td>118.185239</td>\n",
       "      <td>33.699089</td>\n",
       "      <td>19.95136</td>\n",
       "      <td>18.35397</td>\n",
       "      <td>17.54043</td>\n",
       "      <td>17.05026</td>\n",
       "      <td>16.71222</td>\n",
       "      <td>3.657189</td>\n",
       "      <td>-2.410933</td>\n",
       "      <td>0.0</td>\n",
       "      <td>0.0</td>\n",
       "      <td>1.0</td>\n",
       "      <td>153.893111</td>\n",
       "      <td>-18.473102</td>\n",
       "      <td>I</td>\n",
       "      <td>1</td>\n",
       "    </tr>\n",
       "    <tr>\n",
       "      <th>2</th>\n",
       "      <td>1.237658e+18</td>\n",
       "      <td>129.109544</td>\n",
       "      <td>4.654070</td>\n",
       "      <td>17.07165</td>\n",
       "      <td>15.83995</td>\n",
       "      <td>15.33272</td>\n",
       "      <td>15.07332</td>\n",
       "      <td>14.92688</td>\n",
       "      <td>17.837670</td>\n",
       "      <td>-1.738927</td>\n",
       "      <td>0.0</td>\n",
       "      <td>1.0</td>\n",
       "      <td>0.0</td>\n",
       "      <td>84.249297</td>\n",
       "      <td>-19.301402</td>\n",
       "      <td>S</td>\n",
       "      <td>2</td>\n",
       "    </tr>\n",
       "    <tr>\n",
       "      <th>3</th>\n",
       "      <td>1.237674e+18</td>\n",
       "      <td>120.110719</td>\n",
       "      <td>42.078653</td>\n",
       "      <td>19.79620</td>\n",
       "      <td>17.75608</td>\n",
       "      <td>17.02625</td>\n",
       "      <td>16.65317</td>\n",
       "      <td>16.40043</td>\n",
       "      <td>7.058877</td>\n",
       "      <td>-2.769947</td>\n",
       "      <td>0.0</td>\n",
       "      <td>0.0</td>\n",
       "      <td>1.0</td>\n",
       "      <td>97.626611</td>\n",
       "      <td>-17.957224</td>\n",
       "      <td>I</td>\n",
       "      <td>1</td>\n",
       "    </tr>\n",
       "    <tr>\n",
       "      <th>4</th>\n",
       "      <td>1.237651e+18</td>\n",
       "      <td>122.677351</td>\n",
       "      <td>48.918774</td>\n",
       "      <td>18.47516</td>\n",
       "      <td>17.39154</td>\n",
       "      <td>16.99343</td>\n",
       "      <td>16.77378</td>\n",
       "      <td>16.65345</td>\n",
       "      <td>7.496475</td>\n",
       "      <td>-1.481728</td>\n",
       "      <td>0.0</td>\n",
       "      <td>0.0</td>\n",
       "      <td>1.0</td>\n",
       "      <td>119.172834</td>\n",
       "      <td>-18.383764</td>\n",
       "      <td>I</td>\n",
       "      <td>1</td>\n",
       "    </tr>\n",
       "    <tr>\n",
       "      <th>5</th>\n",
       "      <td>1.237658e+18</td>\n",
       "      <td>122.189022</td>\n",
       "      <td>37.330341</td>\n",
       "      <td>19.01056</td>\n",
       "      <td>17.81912</td>\n",
       "      <td>17.38598</td>\n",
       "      <td>17.09107</td>\n",
       "      <td>16.96071</td>\n",
       "      <td>7.394811</td>\n",
       "      <td>-1.624582</td>\n",
       "      <td>0.0</td>\n",
       "      <td>0.0</td>\n",
       "      <td>1.0</td>\n",
       "      <td>126.403332</td>\n",
       "      <td>-18.125019</td>\n",
       "      <td>I</td>\n",
       "      <td>1</td>\n",
       "    </tr>\n",
       "    <tr>\n",
       "      <th>6</th>\n",
       "      <td>1.237658e+18</td>\n",
       "      <td>125.727647</td>\n",
       "      <td>4.312471</td>\n",
       "      <td>19.62410</td>\n",
       "      <td>17.80488</td>\n",
       "      <td>17.01490</td>\n",
       "      <td>16.59137</td>\n",
       "      <td>16.47210</td>\n",
       "      <td>4.984677</td>\n",
       "      <td>-2.609200</td>\n",
       "      <td>0.0</td>\n",
       "      <td>0.0</td>\n",
       "      <td>1.0</td>\n",
       "      <td>85.838714</td>\n",
       "      <td>-17.690295</td>\n",
       "      <td>I</td>\n",
       "      <td>1</td>\n",
       "    </tr>\n",
       "    <tr>\n",
       "      <th>7</th>\n",
       "      <td>1.237662e+18</td>\n",
       "      <td>254.177384</td>\n",
       "      <td>19.697629</td>\n",
       "      <td>19.42895</td>\n",
       "      <td>17.78255</td>\n",
       "      <td>17.12358</td>\n",
       "      <td>16.75121</td>\n",
       "      <td>16.47890</td>\n",
       "      <td>7.947685</td>\n",
       "      <td>-2.305372</td>\n",
       "      <td>0.0</td>\n",
       "      <td>0.0</td>\n",
       "      <td>1.0</td>\n",
       "      <td>152.411164</td>\n",
       "      <td>-18.839109</td>\n",
       "      <td>I</td>\n",
       "      <td>1</td>\n",
       "    </tr>\n",
       "    <tr>\n",
       "      <th>8</th>\n",
       "      <td>1.237666e+18</td>\n",
       "      <td>206.199904</td>\n",
       "      <td>25.455504</td>\n",
       "      <td>17.15307</td>\n",
       "      <td>16.34328</td>\n",
       "      <td>16.07546</td>\n",
       "      <td>15.88867</td>\n",
       "      <td>15.74999</td>\n",
       "      <td>12.176090</td>\n",
       "      <td>-1.077606</td>\n",
       "      <td>0.0</td>\n",
       "      <td>1.0</td>\n",
       "      <td>0.0</td>\n",
       "      <td>116.925709</td>\n",
       "      <td>-19.241798</td>\n",
       "      <td>S</td>\n",
       "      <td>2</td>\n",
       "    </tr>\n",
       "    <tr>\n",
       "      <th>9</th>\n",
       "      <td>1.237664e+18</td>\n",
       "      <td>24.422490</td>\n",
       "      <td>1.025748</td>\n",
       "      <td>18.98651</td>\n",
       "      <td>17.05614</td>\n",
       "      <td>16.19533</td>\n",
       "      <td>15.78131</td>\n",
       "      <td>15.44931</td>\n",
       "      <td>7.826744</td>\n",
       "      <td>-2.791182</td>\n",
       "      <td>0.0</td>\n",
       "      <td>1.0</td>\n",
       "      <td>0.0</td>\n",
       "      <td>136.929407</td>\n",
       "      <td>-19.562757</td>\n",
       "      <td>S</td>\n",
       "      <td>2</td>\n",
       "    </tr>\n",
       "  </tbody>\n",
       "</table>\n",
       "</div>"
      ],
      "text/plain": [
       "          objID          ra        dec  modelMag_u  modelMag_g  modelMag_r   \n",
       "0  1.237674e+18  119.822479  42.008528    17.36539    15.46586    14.54658  \\\n",
       "1  1.237674e+18  118.185239  33.699089    19.95136    18.35397    17.54043   \n",
       "2  1.237658e+18  129.109544   4.654070    17.07165    15.83995    15.33272   \n",
       "3  1.237674e+18  120.110719  42.078653    19.79620    17.75608    17.02625   \n",
       "4  1.237651e+18  122.677351  48.918774    18.47516    17.39154    16.99343   \n",
       "5  1.237658e+18  122.189022  37.330341    19.01056    17.81912    17.38598   \n",
       "6  1.237658e+18  125.727647   4.312471    19.62410    17.80488    17.01490   \n",
       "7  1.237662e+18  254.177384  19.697629    19.42895    17.78255    17.12358   \n",
       "8  1.237666e+18  206.199904  25.455504    17.15307    16.34328    16.07546   \n",
       "9  1.237664e+18   24.422490   1.025748    18.98651    17.05614    16.19533   \n",
       "\n",
       "   modelMag_i  modelMag_z  petroR90_r     Color  elliptical  spiral   \n",
       "0    14.07490    13.69937   18.121160 -2.818807         1.0     0.0  \\\n",
       "1    17.05026    16.71222    3.657189 -2.410933         0.0     0.0   \n",
       "2    15.07332    14.92688   17.837670 -1.738927         0.0     1.0   \n",
       "3    16.65317    16.40043    7.058877 -2.769947         0.0     0.0   \n",
       "4    16.77378    16.65345    7.496475 -1.481728         0.0     0.0   \n",
       "5    17.09107    16.96071    7.394811 -1.624582         0.0     0.0   \n",
       "6    16.59137    16.47210    4.984677 -2.609200         0.0     0.0   \n",
       "7    16.75121    16.47890    7.947685 -2.305372         0.0     0.0   \n",
       "8    15.88867    15.74999   12.176090 -1.077606         0.0     1.0   \n",
       "9    15.78131    15.44931    7.826744 -2.791182         0.0     1.0   \n",
       "\n",
       "   uncertain  distancia_L    Mag_abs type  target  \n",
       "0        0.0   135.131916 -21.191136    E       3  \n",
       "1        1.0   153.893111 -18.473102    I       1  \n",
       "2        0.0    84.249297 -19.301402    S       2  \n",
       "3        1.0    97.626611 -17.957224    I       1  \n",
       "4        1.0   119.172834 -18.383764    I       1  \n",
       "5        1.0   126.403332 -18.125019    I       1  \n",
       "6        1.0    85.838714 -17.690295    I       1  \n",
       "7        1.0   152.411164 -18.839109    I       1  \n",
       "8        0.0   116.925709 -19.241798    S       2  \n",
       "9        0.0   136.929407 -19.562757    S       2  "
      ]
     },
     "metadata": {},
     "output_type": "display_data"
    },
    {
     "data": {
      "text/plain": [
       "(32623, 17)"
      ]
     },
     "metadata": {},
     "output_type": "display_data"
    },
    {
     "data": {
      "text/html": [
       "<div>\n",
       "<style scoped>\n",
       "    .dataframe tbody tr th:only-of-type {\n",
       "        vertical-align: middle;\n",
       "    }\n",
       "\n",
       "    .dataframe tbody tr th {\n",
       "        vertical-align: top;\n",
       "    }\n",
       "\n",
       "    .dataframe thead th {\n",
       "        text-align: right;\n",
       "    }\n",
       "</style>\n",
       "<table border=\"1\" class=\"dataframe\">\n",
       "  <thead>\n",
       "    <tr style=\"text-align: right;\">\n",
       "      <th></th>\n",
       "      <th>objID</th>\n",
       "      <th>ra</th>\n",
       "      <th>dec</th>\n",
       "      <th>modelMag_u</th>\n",
       "      <th>modelMag_g</th>\n",
       "      <th>modelMag_r</th>\n",
       "      <th>modelMag_i</th>\n",
       "      <th>modelMag_z</th>\n",
       "      <th>petroR90_r</th>\n",
       "      <th>Color</th>\n",
       "      <th>elliptical</th>\n",
       "      <th>spiral</th>\n",
       "      <th>uncertain</th>\n",
       "      <th>distancia_L</th>\n",
       "      <th>Mag_abs</th>\n",
       "      <th>target</th>\n",
       "    </tr>\n",
       "  </thead>\n",
       "  <tbody>\n",
       "    <tr>\n",
       "      <th>count</th>\n",
       "      <td>3.262300e+04</td>\n",
       "      <td>32623.000000</td>\n",
       "      <td>32623.000000</td>\n",
       "      <td>32623.000000</td>\n",
       "      <td>32623.000000</td>\n",
       "      <td>32623.000000</td>\n",
       "      <td>32623.000000</td>\n",
       "      <td>32623.000000</td>\n",
       "      <td>32623.000000</td>\n",
       "      <td>32623.000000</td>\n",
       "      <td>32623.000000</td>\n",
       "      <td>32623.000000</td>\n",
       "      <td>32623.000000</td>\n",
       "      <td>32623.000000</td>\n",
       "      <td>32623.000000</td>\n",
       "      <td>32623.000000</td>\n",
       "    </tr>\n",
       "    <tr>\n",
       "      <th>mean</th>\n",
       "      <td>1.237662e+18</td>\n",
       "      <td>177.288294</td>\n",
       "      <td>23.620461</td>\n",
       "      <td>18.373667</td>\n",
       "      <td>16.888166</td>\n",
       "      <td>16.239860</td>\n",
       "      <td>15.903609</td>\n",
       "      <td>15.657005</td>\n",
       "      <td>9.461437</td>\n",
       "      <td>-2.133806</td>\n",
       "      <td>0.114306</td>\n",
       "      <td>0.294516</td>\n",
       "      <td>0.591178</td>\n",
       "      <td>111.823584</td>\n",
       "      <td>-18.969479</td>\n",
       "      <td>1.523128</td>\n",
       "    </tr>\n",
       "    <tr>\n",
       "      <th>std</th>\n",
       "      <td>6.022855e+12</td>\n",
       "      <td>66.409157</td>\n",
       "      <td>19.197075</td>\n",
       "      <td>0.991683</td>\n",
       "      <td>1.044239</td>\n",
       "      <td>1.122311</td>\n",
       "      <td>1.173878</td>\n",
       "      <td>1.222213</td>\n",
       "      <td>4.993808</td>\n",
       "      <td>0.525426</td>\n",
       "      <td>0.318187</td>\n",
       "      <td>0.455832</td>\n",
       "      <td>0.491624</td>\n",
       "      <td>26.247110</td>\n",
       "      <td>1.193739</td>\n",
       "      <td>0.691442</td>\n",
       "    </tr>\n",
       "    <tr>\n",
       "      <th>min</th>\n",
       "      <td>1.237646e+18</td>\n",
       "      <td>0.013448</td>\n",
       "      <td>-11.182179</td>\n",
       "      <td>14.704220</td>\n",
       "      <td>12.848980</td>\n",
       "      <td>11.981360</td>\n",
       "      <td>11.657850</td>\n",
       "      <td>11.280060</td>\n",
       "      <td>0.842248</td>\n",
       "      <td>-4.982071</td>\n",
       "      <td>0.000000</td>\n",
       "      <td>0.000000</td>\n",
       "      <td>0.000000</td>\n",
       "      <td>60.841980</td>\n",
       "      <td>-22.865193</td>\n",
       "      <td>1.000000</td>\n",
       "    </tr>\n",
       "    <tr>\n",
       "      <th>25%</th>\n",
       "      <td>1.237657e+18</td>\n",
       "      <td>147.564880</td>\n",
       "      <td>6.284675</td>\n",
       "      <td>17.700695</td>\n",
       "      <td>16.169435</td>\n",
       "      <td>15.450990</td>\n",
       "      <td>15.073080</td>\n",
       "      <td>14.778060</td>\n",
       "      <td>6.092794</td>\n",
       "      <td>-2.590922</td>\n",
       "      <td>0.000000</td>\n",
       "      <td>0.000000</td>\n",
       "      <td>0.000000</td>\n",
       "      <td>89.872118</td>\n",
       "      <td>-19.821729</td>\n",
       "      <td>1.000000</td>\n",
       "    </tr>\n",
       "    <tr>\n",
       "      <th>50%</th>\n",
       "      <td>1.237662e+18</td>\n",
       "      <td>181.856907</td>\n",
       "      <td>21.805872</td>\n",
       "      <td>18.458960</td>\n",
       "      <td>17.042570</td>\n",
       "      <td>16.408970</td>\n",
       "      <td>16.077010</td>\n",
       "      <td>15.827330</td>\n",
       "      <td>8.291302</td>\n",
       "      <td>-2.189131</td>\n",
       "      <td>0.000000</td>\n",
       "      <td>0.000000</td>\n",
       "      <td>1.000000</td>\n",
       "      <td>112.981066</td>\n",
       "      <td>-18.891129</td>\n",
       "      <td>1.000000</td>\n",
       "    </tr>\n",
       "    <tr>\n",
       "      <th>75%</th>\n",
       "      <td>1.237666e+18</td>\n",
       "      <td>224.065539</td>\n",
       "      <td>38.065776</td>\n",
       "      <td>19.091840</td>\n",
       "      <td>17.718375</td>\n",
       "      <td>17.162160</td>\n",
       "      <td>16.865420</td>\n",
       "      <td>16.659130</td>\n",
       "      <td>11.341100</td>\n",
       "      <td>-1.687871</td>\n",
       "      <td>0.000000</td>\n",
       "      <td>1.000000</td>\n",
       "      <td>1.000000</td>\n",
       "      <td>135.251067</td>\n",
       "      <td>-18.105317</td>\n",
       "      <td>2.000000</td>\n",
       "    </tr>\n",
       "    <tr>\n",
       "      <th>max</th>\n",
       "      <td>1.237680e+18</td>\n",
       "      <td>359.921854</td>\n",
       "      <td>69.028369</td>\n",
       "      <td>25.311900</td>\n",
       "      <td>23.230790</td>\n",
       "      <td>22.057280</td>\n",
       "      <td>24.656410</td>\n",
       "      <td>22.826950</td>\n",
       "      <td>39.948240</td>\n",
       "      <td>-0.224642</td>\n",
       "      <td>1.000000</td>\n",
       "      <td>1.000000</td>\n",
       "      <td>1.000000</td>\n",
       "      <td>155.477681</td>\n",
       "      <td>-13.516647</td>\n",
       "      <td>3.000000</td>\n",
       "    </tr>\n",
       "  </tbody>\n",
       "</table>\n",
       "</div>"
      ],
      "text/plain": [
       "              objID            ra           dec    modelMag_u    modelMag_g   \n",
       "count  3.262300e+04  32623.000000  32623.000000  32623.000000  32623.000000  \\\n",
       "mean   1.237662e+18    177.288294     23.620461     18.373667     16.888166   \n",
       "std    6.022855e+12     66.409157     19.197075      0.991683      1.044239   \n",
       "min    1.237646e+18      0.013448    -11.182179     14.704220     12.848980   \n",
       "25%    1.237657e+18    147.564880      6.284675     17.700695     16.169435   \n",
       "50%    1.237662e+18    181.856907     21.805872     18.458960     17.042570   \n",
       "75%    1.237666e+18    224.065539     38.065776     19.091840     17.718375   \n",
       "max    1.237680e+18    359.921854     69.028369     25.311900     23.230790   \n",
       "\n",
       "         modelMag_r    modelMag_i    modelMag_z    petroR90_r         Color   \n",
       "count  32623.000000  32623.000000  32623.000000  32623.000000  32623.000000  \\\n",
       "mean      16.239860     15.903609     15.657005      9.461437     -2.133806   \n",
       "std        1.122311      1.173878      1.222213      4.993808      0.525426   \n",
       "min       11.981360     11.657850     11.280060      0.842248     -4.982071   \n",
       "25%       15.450990     15.073080     14.778060      6.092794     -2.590922   \n",
       "50%       16.408970     16.077010     15.827330      8.291302     -2.189131   \n",
       "75%       17.162160     16.865420     16.659130     11.341100     -1.687871   \n",
       "max       22.057280     24.656410     22.826950     39.948240     -0.224642   \n",
       "\n",
       "         elliptical        spiral     uncertain   distancia_L       Mag_abs   \n",
       "count  32623.000000  32623.000000  32623.000000  32623.000000  32623.000000  \\\n",
       "mean       0.114306      0.294516      0.591178    111.823584    -18.969479   \n",
       "std        0.318187      0.455832      0.491624     26.247110      1.193739   \n",
       "min        0.000000      0.000000      0.000000     60.841980    -22.865193   \n",
       "25%        0.000000      0.000000      0.000000     89.872118    -19.821729   \n",
       "50%        0.000000      0.000000      1.000000    112.981066    -18.891129   \n",
       "75%        0.000000      1.000000      1.000000    135.251067    -18.105317   \n",
       "max        1.000000      1.000000      1.000000    155.477681    -13.516647   \n",
       "\n",
       "             target  \n",
       "count  32623.000000  \n",
       "mean       1.523128  \n",
       "std        0.691442  \n",
       "min        1.000000  \n",
       "25%        1.000000  \n",
       "50%        1.000000  \n",
       "75%        2.000000  \n",
       "max        3.000000  "
      ]
     },
     "execution_count": 5,
     "metadata": {},
     "output_type": "execute_result"
    }
   ],
   "source": [
    "# variable Númerica**\n",
    "\n",
    "data[\"target\"] = data.apply(num_type, axis=1)\n",
    "\n",
    "\n",
    "display(data.head(10))\n",
    "display (data.shape)\n",
    "data.describe()"
   ]
  },
  {
   "cell_type": "code",
   "execution_count": 6,
   "metadata": {},
   "outputs": [
    {
     "data": {
      "text/plain": [
       "objID          0\n",
       "ra             0\n",
       "dec            0\n",
       "modelMag_u     0\n",
       "modelMag_g     0\n",
       "modelMag_r     0\n",
       "modelMag_i     0\n",
       "modelMag_z     0\n",
       "petroR90_r     0\n",
       "Color          0\n",
       "elliptical     0\n",
       "spiral         0\n",
       "uncertain      0\n",
       "distancia_L    0\n",
       "Mag_abs        0\n",
       "type           0\n",
       "target         0\n",
       "dtype: int64"
      ]
     },
     "execution_count": 6,
     "metadata": {},
     "output_type": "execute_result"
    }
   ],
   "source": [
    "data.isna().sum()"
   ]
  },
  {
   "cell_type": "code",
   "execution_count": 7,
   "metadata": {},
   "outputs": [
    {
     "name": "stdout",
     "output_type": "stream",
     "text": [
      "objID              0\n",
      "ra                 0\n",
      "dec                0\n",
      "modelMag_u         0\n",
      "modelMag_g         0\n",
      "modelMag_r         0\n",
      "modelMag_i         0\n",
      "modelMag_z         0\n",
      "petroR90_r         0\n",
      "Color              0\n",
      "elliptical     28894\n",
      "spiral         23015\n",
      "uncertain      13337\n",
      "distancia_L        0\n",
      "Mag_abs            0\n",
      "type               0\n",
      "target             0\n",
      "dtype: int64\n"
     ]
    }
   ],
   "source": [
    "ceros_por_columna = data.eq(0).sum()\n",
    "\n",
    "print(ceros_por_columna)"
   ]
  },
  {
   "cell_type": "code",
   "execution_count": 8,
   "metadata": {},
   "outputs": [
    {
     "name": "stdout",
     "output_type": "stream",
     "text": [
      "Index(['objID', 'ra', 'dec', 'modelMag_u', 'modelMag_g', 'modelMag_r',\n",
      "       'modelMag_i', 'modelMag_z', 'petroR90_r', 'Color', 'elliptical',\n",
      "       'spiral', 'uncertain', 'distancia_L', 'Mag_abs', 'type', 'target'],\n",
      "      dtype='object')\n"
     ]
    }
   ],
   "source": [
    "print(data.columns)"
   ]
  },
  {
   "cell_type": "code",
   "execution_count": 9,
   "metadata": {},
   "outputs": [
    {
     "data": {
      "text/plain": [
       "((32623, 17), 18007)"
      ]
     },
     "execution_count": 9,
     "metadata": {},
     "output_type": "execute_result"
    }
   ],
   "source": [
    "data.shape, data.objID.nunique()"
   ]
  },
  {
   "cell_type": "code",
   "execution_count": 10,
   "metadata": {
    "scrolled": true
   },
   "outputs": [
    {
     "data": {
      "text/plain": [
       "objID\n",
       "1.237666e+18    60\n",
       "1.237667e+18    47\n",
       "1.237664e+18    45\n",
       "1.237666e+18    43\n",
       "1.237667e+18    31\n",
       "                ..\n",
       "1.237665e+18     1\n",
       "1.237665e+18     1\n",
       "1.237652e+18     1\n",
       "1.237652e+18     1\n",
       "1.237666e+18     1\n",
       "Name: count, Length: 18007, dtype: int64"
      ]
     },
     "execution_count": 10,
     "metadata": {},
     "output_type": "execute_result"
    }
   ],
   "source": [
    "data.objID.value_counts()"
   ]
  },
  {
   "cell_type": "code",
   "execution_count": 11,
   "metadata": {},
   "outputs": [
    {
     "data": {
      "text/plain": [
       "<Axes: >"
      ]
     },
     "execution_count": 11,
     "metadata": {},
     "output_type": "execute_result"
    },
    {
     "data": {
      "image/png": "[encoded data removed]",
      "text/plain": [
       "<Figure size 640x480 with 2 Axes>"
      ]
     },
     "metadata": {},
     "output_type": "display_data"
    }
   ],
   "source": [
    "sns.heatmap(data.isna(), yticklabels=False)"
   ]
  },
  {
   "cell_type": "markdown",
   "metadata": {},
   "source": [
    "Elimino duplicados"
   ]
  },
  {
   "cell_type": "code",
   "execution_count": 12,
   "metadata": {},
   "outputs": [
    {
     "data": {
      "text/plain": [
       "(18007, 17)"
      ]
     },
     "execution_count": 12,
     "metadata": {},
     "output_type": "execute_result"
    }
   ],
   "source": [
    "data_unique = data.drop_duplicates(subset=[\"objID\"])\n",
    "# data_unique.head()\n",
    "data_unique.shape"
   ]
  },
  {
   "cell_type": "code",
   "execution_count": 13,
   "metadata": {},
   "outputs": [
    {
     "data": {
      "text/html": [
       "<div>\n",
       "<style scoped>\n",
       "    .dataframe tbody tr th:only-of-type {\n",
       "        vertical-align: middle;\n",
       "    }\n",
       "\n",
       "    .dataframe tbody tr th {\n",
       "        vertical-align: top;\n",
       "    }\n",
       "\n",
       "    .dataframe thead th {\n",
       "        text-align: right;\n",
       "    }\n",
       "</style>\n",
       "<table border=\"1\" class=\"dataframe\">\n",
       "  <thead>\n",
       "    <tr style=\"text-align: right;\">\n",
       "      <th></th>\n",
       "      <th>objID</th>\n",
       "      <th>ra</th>\n",
       "      <th>dec</th>\n",
       "      <th>modelMag_u</th>\n",
       "      <th>modelMag_g</th>\n",
       "      <th>modelMag_r</th>\n",
       "      <th>modelMag_i</th>\n",
       "      <th>modelMag_z</th>\n",
       "      <th>petroR90_r</th>\n",
       "      <th>Color</th>\n",
       "      <th>elliptical</th>\n",
       "      <th>spiral</th>\n",
       "      <th>uncertain</th>\n",
       "      <th>distancia_L</th>\n",
       "      <th>Mag_abs</th>\n",
       "      <th>target</th>\n",
       "    </tr>\n",
       "  </thead>\n",
       "  <tbody>\n",
       "    <tr>\n",
       "      <th>count</th>\n",
       "      <td>1.800700e+04</td>\n",
       "      <td>18007.000000</td>\n",
       "      <td>18007.000000</td>\n",
       "      <td>18007.000000</td>\n",
       "      <td>18007.000000</td>\n",
       "      <td>18007.000000</td>\n",
       "      <td>18007.000000</td>\n",
       "      <td>18007.000000</td>\n",
       "      <td>18007.000000</td>\n",
       "      <td>18007.000000</td>\n",
       "      <td>18007.000000</td>\n",
       "      <td>18007.000000</td>\n",
       "      <td>18007.000000</td>\n",
       "      <td>18007.000000</td>\n",
       "      <td>18007.000000</td>\n",
       "      <td>18007.000000</td>\n",
       "    </tr>\n",
       "    <tr>\n",
       "      <th>mean</th>\n",
       "      <td>1.237661e+18</td>\n",
       "      <td>182.877773</td>\n",
       "      <td>24.731422</td>\n",
       "      <td>18.328490</td>\n",
       "      <td>16.886523</td>\n",
       "      <td>16.264649</td>\n",
       "      <td>15.936868</td>\n",
       "      <td>15.699427</td>\n",
       "      <td>9.464553</td>\n",
       "      <td>-2.063841</td>\n",
       "      <td>0.096074</td>\n",
       "      <td>0.328261</td>\n",
       "      <td>0.575665</td>\n",
       "      <td>111.677474</td>\n",
       "      <td>-18.937537</td>\n",
       "      <td>1.520409</td>\n",
       "    </tr>\n",
       "    <tr>\n",
       "      <th>std</th>\n",
       "      <td>6.142531e+12</td>\n",
       "      <td>61.491958</td>\n",
       "      <td>19.161276</td>\n",
       "      <td>0.964005</td>\n",
       "      <td>1.019238</td>\n",
       "      <td>1.107326</td>\n",
       "      <td>1.159965</td>\n",
       "      <td>1.214273</td>\n",
       "      <td>4.808338</td>\n",
       "      <td>0.526015</td>\n",
       "      <td>0.294701</td>\n",
       "      <td>0.469593</td>\n",
       "      <td>0.494255</td>\n",
       "      <td>26.452894</td>\n",
       "      <td>1.184483</td>\n",
       "      <td>0.664647</td>\n",
       "    </tr>\n",
       "    <tr>\n",
       "      <th>min</th>\n",
       "      <td>1.237646e+18</td>\n",
       "      <td>0.013448</td>\n",
       "      <td>-11.053294</td>\n",
       "      <td>14.704220</td>\n",
       "      <td>13.110180</td>\n",
       "      <td>12.232180</td>\n",
       "      <td>11.775730</td>\n",
       "      <td>11.492580</td>\n",
       "      <td>0.842248</td>\n",
       "      <td>-4.963964</td>\n",
       "      <td>0.000000</td>\n",
       "      <td>0.000000</td>\n",
       "      <td>0.000000</td>\n",
       "      <td>60.888247</td>\n",
       "      <td>-22.730648</td>\n",
       "      <td>1.000000</td>\n",
       "    </tr>\n",
       "    <tr>\n",
       "      <th>25%</th>\n",
       "      <td>1.237657e+18</td>\n",
       "      <td>151.586892</td>\n",
       "      <td>8.509189</td>\n",
       "      <td>17.685560</td>\n",
       "      <td>16.189805</td>\n",
       "      <td>15.485390</td>\n",
       "      <td>15.118200</td>\n",
       "      <td>14.828740</td>\n",
       "      <td>6.188277</td>\n",
       "      <td>-2.537768</td>\n",
       "      <td>0.000000</td>\n",
       "      <td>0.000000</td>\n",
       "      <td>0.000000</td>\n",
       "      <td>89.704330</td>\n",
       "      <td>-19.785564</td>\n",
       "      <td>1.000000</td>\n",
       "    </tr>\n",
       "    <tr>\n",
       "      <th>50%</th>\n",
       "      <td>1.237662e+18</td>\n",
       "      <td>184.722102</td>\n",
       "      <td>23.056895</td>\n",
       "      <td>18.422610</td>\n",
       "      <td>17.038430</td>\n",
       "      <td>16.435170</td>\n",
       "      <td>16.110650</td>\n",
       "      <td>15.865950</td>\n",
       "      <td>8.406304</td>\n",
       "      <td>-2.049527</td>\n",
       "      <td>0.000000</td>\n",
       "      <td>0.000000</td>\n",
       "      <td>1.000000</td>\n",
       "      <td>112.237797</td>\n",
       "      <td>-18.858549</td>\n",
       "      <td>1.000000</td>\n",
       "    </tr>\n",
       "    <tr>\n",
       "      <th>75%</th>\n",
       "      <td>1.237666e+18</td>\n",
       "      <td>224.087948</td>\n",
       "      <td>39.473257</td>\n",
       "      <td>19.025495</td>\n",
       "      <td>17.700190</td>\n",
       "      <td>17.177755</td>\n",
       "      <td>16.892060</td>\n",
       "      <td>16.697190</td>\n",
       "      <td>11.390630</td>\n",
       "      <td>-1.626739</td>\n",
       "      <td>0.000000</td>\n",
       "      <td>1.000000</td>\n",
       "      <td>1.000000</td>\n",
       "      <td>135.296118</td>\n",
       "      <td>-18.082197</td>\n",
       "      <td>2.000000</td>\n",
       "    </tr>\n",
       "    <tr>\n",
       "      <th>max</th>\n",
       "      <td>1.237680e+18</td>\n",
       "      <td>359.921854</td>\n",
       "      <td>69.028369</td>\n",
       "      <td>25.311900</td>\n",
       "      <td>22.376620</td>\n",
       "      <td>22.057280</td>\n",
       "      <td>24.361840</td>\n",
       "      <td>22.826950</td>\n",
       "      <td>39.853800</td>\n",
       "      <td>-0.224642</td>\n",
       "      <td>1.000000</td>\n",
       "      <td>1.000000</td>\n",
       "      <td>1.000000</td>\n",
       "      <td>155.470208</td>\n",
       "      <td>-13.516647</td>\n",
       "      <td>3.000000</td>\n",
       "    </tr>\n",
       "  </tbody>\n",
       "</table>\n",
       "</div>"
      ],
      "text/plain": [
       "              objID            ra           dec    modelMag_u    modelMag_g   \n",
       "count  1.800700e+04  18007.000000  18007.000000  18007.000000  18007.000000  \\\n",
       "mean   1.237661e+18    182.877773     24.731422     18.328490     16.886523   \n",
       "std    6.142531e+12     61.491958     19.161276      0.964005      1.019238   \n",
       "min    1.237646e+18      0.013448    -11.053294     14.704220     13.110180   \n",
       "25%    1.237657e+18    151.586892      8.509189     17.685560     16.189805   \n",
       "50%    1.237662e+18    184.722102     23.056895     18.422610     17.038430   \n",
       "75%    1.237666e+18    224.087948     39.473257     19.025495     17.700190   \n",
       "max    1.237680e+18    359.921854     69.028369     25.311900     22.376620   \n",
       "\n",
       "         modelMag_r    modelMag_i    modelMag_z    petroR90_r         Color   \n",
       "count  18007.000000  18007.000000  18007.000000  18007.000000  18007.000000  \\\n",
       "mean      16.264649     15.936868     15.699427      9.464553     -2.063841   \n",
       "std        1.107326      1.159965      1.214273      4.808338      0.526015   \n",
       "min       12.232180     11.775730     11.492580      0.842248     -4.963964   \n",
       "25%       15.485390     15.118200     14.828740      6.188277     -2.537768   \n",
       "50%       16.435170     16.110650     15.865950      8.406304     -2.049527   \n",
       "75%       17.177755     16.892060     16.697190     11.390630     -1.626739   \n",
       "max       22.057280     24.361840     22.826950     39.853800     -0.224642   \n",
       "\n",
       "         elliptical        spiral     uncertain   distancia_L       Mag_abs   \n",
       "count  18007.000000  18007.000000  18007.000000  18007.000000  18007.000000  \\\n",
       "mean       0.096074      0.328261      0.575665    111.677474    -18.937537   \n",
       "std        0.294701      0.469593      0.494255     26.452894      1.184483   \n",
       "min        0.000000      0.000000      0.000000     60.888247    -22.730648   \n",
       "25%        0.000000      0.000000      0.000000     89.704330    -19.785564   \n",
       "50%        0.000000      0.000000      1.000000    112.237797    -18.858549   \n",
       "75%        0.000000      1.000000      1.000000    135.296118    -18.082197   \n",
       "max        1.000000      1.000000      1.000000    155.470208    -13.516647   \n",
       "\n",
       "             target  \n",
       "count  18007.000000  \n",
       "mean       1.520409  \n",
       "std        0.664647  \n",
       "min        1.000000  \n",
       "25%        1.000000  \n",
       "50%        1.000000  \n",
       "75%        2.000000  \n",
       "max        3.000000  "
      ]
     },
     "execution_count": 13,
     "metadata": {},
     "output_type": "execute_result"
    }
   ],
   "source": [
    "data_unique.describe()"
   ]
  },
  {
   "cell_type": "code",
   "execution_count": 14,
   "metadata": {},
   "outputs": [
    {
     "data": {
      "text/plain": [
       "<Axes: title={'center': 'Mag_abs'}, xlabel='target'>"
      ]
     },
     "execution_count": 14,
     "metadata": {},
     "output_type": "execute_result"
    },
    {
     "data": {
      "image/png": "[encoded data removed]",
      "text/plain": [
       "<Figure size 1000x2000 with 10 Axes>"
      ]
     },
     "metadata": {},
     "output_type": "display_data"
    }
   ],
   "source": [
    "fig, ax = plt.subplots(5, 2,sharex=True, figsize=(10, 20))\n",
    "data_unique.boxplot('modelMag_u','target',notch=True, ax=ax[0][0])\n",
    "data_unique.boxplot('modelMag_g','target',notch=True, ax=ax[0][1])\n",
    "data_unique.boxplot('modelMag_r','target',notch=True, ax=ax[1][0])\n",
    "data_unique.boxplot('modelMag_i','target',notch=True, ax=ax[1][1])\n",
    "data_unique.boxplot('modelMag_z','target',notch=True, ax=ax[2][0])\n",
    "data_unique.boxplot('petroR90_r','target',notch=True, ax=ax[2][1])\n",
    "# data_unique.boxplot('z','target', notch=True,ax=ax[2][1])\n",
    "data_unique.boxplot('Color','target',notch=True, ax=ax[3][0])\n",
    "data_unique.boxplot('distancia_L','target', notch=True,ax=ax[3][1])\n",
    "data_unique.boxplot('Mag_abs','target',notch=True, ax=ax[4][0])"
   ]
  },
  {
   "cell_type": "code",
   "execution_count": 15,
   "metadata": {},
   "outputs": [
    {
     "name": "stdout",
     "output_type": "stream",
     "text": [
      "<class 'pandas.core.frame.DataFrame'>\n",
      "Index: 18007 entries, 0 to 32620\n",
      "Data columns (total 10 columns):\n",
      " #   Column       Non-Null Count  Dtype  \n",
      "---  ------       --------------  -----  \n",
      " 0   modelMag_u   18007 non-null  float64\n",
      " 1   modelMag_g   18007 non-null  float64\n",
      " 2   modelMag_r   18007 non-null  float64\n",
      " 3   modelMag_i   18007 non-null  float64\n",
      " 4   modelMag_z   18007 non-null  float64\n",
      " 5   petroR90_r   18007 non-null  float64\n",
      " 6   Color        18007 non-null  float64\n",
      " 7   distancia_L  18007 non-null  float64\n",
      " 8   Mag_abs      18007 non-null  float64\n",
      " 9   target       18007 non-null  int64  \n",
      "dtypes: float64(9), int64(1)\n",
      "memory usage: 1.5 MB\n"
     ]
    }
   ],
   "source": [
    "type_cols      = ['ra','dec','objID','elliptical', 'spiral', 'uncertain', 'type']\n",
    "\n",
    "# escalar\n",
    "data_rf      = data_unique.drop(type_cols, axis=1)\n",
    "# data_clus_cols = data_clus.columns\n",
    "data_rf.info()"
   ]
  },
  {
   "cell_type": "code",
   "execution_count": 16,
   "metadata": {},
   "outputs": [],
   "source": [
    "# variables = ['modelMag_u', 'modelMag_g', 'modelMag_r', 'modelMag_i', 'modelMag_z', 'petroR90_r', 'z', 'Color', 'distancia_L', 'Mag_abs',]\n",
    "variables = ['modelMag_u', 'modelMag_g', 'modelMag_r', 'modelMag_i', 'modelMag_z', 'petroR90_r', 'Color', 'distancia_L', 'Mag_abs', ]"
   ]
  },
  {
   "cell_type": "code",
   "execution_count": 17,
   "metadata": {},
   "outputs": [
    {
     "data": {
      "text/html": [
       "<div>\n",
       "<style scoped>\n",
       "    .dataframe tbody tr th:only-of-type {\n",
       "        vertical-align: middle;\n",
       "    }\n",
       "\n",
       "    .dataframe tbody tr th {\n",
       "        vertical-align: top;\n",
       "    }\n",
       "\n",
       "    .dataframe thead th {\n",
       "        text-align: right;\n",
       "    }\n",
       "</style>\n",
       "<table border=\"1\" class=\"dataframe\">\n",
       "  <thead>\n",
       "    <tr style=\"text-align: right;\">\n",
       "      <th></th>\n",
       "      <th>modelMag_u</th>\n",
       "      <th>modelMag_g</th>\n",
       "      <th>modelMag_r</th>\n",
       "      <th>modelMag_i</th>\n",
       "      <th>modelMag_z</th>\n",
       "      <th>petroR90_r</th>\n",
       "      <th>Color</th>\n",
       "      <th>distancia_L</th>\n",
       "      <th>Mag_abs</th>\n",
       "    </tr>\n",
       "  </thead>\n",
       "  <tbody>\n",
       "    <tr>\n",
       "      <th>0</th>\n",
       "      <td>17.36539</td>\n",
       "      <td>15.46586</td>\n",
       "      <td>14.54658</td>\n",
       "      <td>14.07490</td>\n",
       "      <td>13.69937</td>\n",
       "      <td>18.121160</td>\n",
       "      <td>-2.818807</td>\n",
       "      <td>135.131916</td>\n",
       "      <td>-21.191136</td>\n",
       "    </tr>\n",
       "    <tr>\n",
       "      <th>1</th>\n",
       "      <td>19.95136</td>\n",
       "      <td>18.35397</td>\n",
       "      <td>17.54043</td>\n",
       "      <td>17.05026</td>\n",
       "      <td>16.71222</td>\n",
       "      <td>3.657189</td>\n",
       "      <td>-2.410933</td>\n",
       "      <td>153.893111</td>\n",
       "      <td>-18.473102</td>\n",
       "    </tr>\n",
       "    <tr>\n",
       "      <th>2</th>\n",
       "      <td>17.07165</td>\n",
       "      <td>15.83995</td>\n",
       "      <td>15.33272</td>\n",
       "      <td>15.07332</td>\n",
       "      <td>14.92688</td>\n",
       "      <td>17.837670</td>\n",
       "      <td>-1.738927</td>\n",
       "      <td>84.249297</td>\n",
       "      <td>-19.301402</td>\n",
       "    </tr>\n",
       "    <tr>\n",
       "      <th>3</th>\n",
       "      <td>19.79620</td>\n",
       "      <td>17.75608</td>\n",
       "      <td>17.02625</td>\n",
       "      <td>16.65317</td>\n",
       "      <td>16.40043</td>\n",
       "      <td>7.058877</td>\n",
       "      <td>-2.769947</td>\n",
       "      <td>97.626611</td>\n",
       "      <td>-17.957224</td>\n",
       "    </tr>\n",
       "    <tr>\n",
       "      <th>4</th>\n",
       "      <td>18.47516</td>\n",
       "      <td>17.39154</td>\n",
       "      <td>16.99343</td>\n",
       "      <td>16.77378</td>\n",
       "      <td>16.65345</td>\n",
       "      <td>7.496475</td>\n",
       "      <td>-1.481728</td>\n",
       "      <td>119.172834</td>\n",
       "      <td>-18.383764</td>\n",
       "    </tr>\n",
       "    <tr>\n",
       "      <th>...</th>\n",
       "      <td>...</td>\n",
       "      <td>...</td>\n",
       "      <td>...</td>\n",
       "      <td>...</td>\n",
       "      <td>...</td>\n",
       "      <td>...</td>\n",
       "      <td>...</td>\n",
       "      <td>...</td>\n",
       "      <td>...</td>\n",
       "    </tr>\n",
       "    <tr>\n",
       "      <th>32611</th>\n",
       "      <td>18.17586</td>\n",
       "      <td>16.43222</td>\n",
       "      <td>15.67861</td>\n",
       "      <td>15.30980</td>\n",
       "      <td>15.00426</td>\n",
       "      <td>8.011996</td>\n",
       "      <td>-2.497250</td>\n",
       "      <td>108.312366</td>\n",
       "      <td>-19.538411</td>\n",
       "    </tr>\n",
       "    <tr>\n",
       "      <th>32614</th>\n",
       "      <td>18.60408</td>\n",
       "      <td>17.45639</td>\n",
       "      <td>17.02447</td>\n",
       "      <td>16.80120</td>\n",
       "      <td>16.60431</td>\n",
       "      <td>6.324440</td>\n",
       "      <td>-1.579605</td>\n",
       "      <td>124.013281</td>\n",
       "      <td>-18.444637</td>\n",
       "    </tr>\n",
       "    <tr>\n",
       "      <th>32618</th>\n",
       "      <td>18.28635</td>\n",
       "      <td>16.35437</td>\n",
       "      <td>15.45957</td>\n",
       "      <td>15.04826</td>\n",
       "      <td>14.68787</td>\n",
       "      <td>6.461855</td>\n",
       "      <td>-2.826780</td>\n",
       "      <td>151.586126</td>\n",
       "      <td>-20.534729</td>\n",
       "    </tr>\n",
       "    <tr>\n",
       "      <th>32619</th>\n",
       "      <td>19.40030</td>\n",
       "      <td>17.66846</td>\n",
       "      <td>16.84531</td>\n",
       "      <td>16.43551</td>\n",
       "      <td>16.13970</td>\n",
       "      <td>4.905749</td>\n",
       "      <td>-2.554989</td>\n",
       "      <td>142.173048</td>\n",
       "      <td>-18.991187</td>\n",
       "    </tr>\n",
       "    <tr>\n",
       "      <th>32620</th>\n",
       "      <td>17.90625</td>\n",
       "      <td>16.28814</td>\n",
       "      <td>15.54940</td>\n",
       "      <td>15.18543</td>\n",
       "      <td>14.88708</td>\n",
       "      <td>14.658280</td>\n",
       "      <td>-2.356849</td>\n",
       "      <td>145.434925</td>\n",
       "      <td>-20.323218</td>\n",
       "    </tr>\n",
       "  </tbody>\n",
       "</table>\n",
       "<p>18007 rows × 9 columns</p>\n",
       "</div>"
      ],
      "text/plain": [
       "       modelMag_u  modelMag_g  modelMag_r  modelMag_i  modelMag_z  petroR90_r   \n",
       "0        17.36539    15.46586    14.54658    14.07490    13.69937   18.121160  \\\n",
       "1        19.95136    18.35397    17.54043    17.05026    16.71222    3.657189   \n",
       "2        17.07165    15.83995    15.33272    15.07332    14.92688   17.837670   \n",
       "3        19.79620    17.75608    17.02625    16.65317    16.40043    7.058877   \n",
       "4        18.47516    17.39154    16.99343    16.77378    16.65345    7.496475   \n",
       "...           ...         ...         ...         ...         ...         ...   \n",
       "32611    18.17586    16.43222    15.67861    15.30980    15.00426    8.011996   \n",
       "32614    18.60408    17.45639    17.02447    16.80120    16.60431    6.324440   \n",
       "32618    18.28635    16.35437    15.45957    15.04826    14.68787    6.461855   \n",
       "32619    19.40030    17.66846    16.84531    16.43551    16.13970    4.905749   \n",
       "32620    17.90625    16.28814    15.54940    15.18543    14.88708   14.658280   \n",
       "\n",
       "          Color  distancia_L    Mag_abs  \n",
       "0     -2.818807   135.131916 -21.191136  \n",
       "1     -2.410933   153.893111 -18.473102  \n",
       "2     -1.738927    84.249297 -19.301402  \n",
       "3     -2.769947    97.626611 -17.957224  \n",
       "4     -1.481728   119.172834 -18.383764  \n",
       "...         ...          ...        ...  \n",
       "32611 -2.497250   108.312366 -19.538411  \n",
       "32614 -1.579605   124.013281 -18.444637  \n",
       "32618 -2.826780   151.586126 -20.534729  \n",
       "32619 -2.554989   142.173048 -18.991187  \n",
       "32620 -2.356849   145.434925 -20.323218  \n",
       "\n",
       "[18007 rows x 9 columns]"
      ]
     },
     "execution_count": 17,
     "metadata": {},
     "output_type": "execute_result"
    }
   ],
   "source": [
    "\n",
    "data_rfs = data_rf[variables].copy()\n",
    "data_rfs"
   ]
  },
  {
   "cell_type": "code",
   "execution_count": 18,
   "metadata": {},
   "outputs": [
    {
     "data": {
      "text/plain": [
       "array([[-0.99908976, -1.3938863 , -1.55159015, ..., -1.43529584,\n",
       "         0.88667399, -1.90265537],\n",
       "       [ 1.68351365,  1.43978834,  1.15215921, ..., -0.65987011,\n",
       "         1.59592404,  0.39210957],\n",
       "       [-1.30380633, -1.02684718, -0.84162622, ...,  0.61770762,\n",
       "        -1.0368975 , -0.30720186],\n",
       "       ...,\n",
       "       [-0.04371501, -0.52212302, -0.72706784, ..., -1.45045364,\n",
       "         1.50871055, -1.34846821],\n",
       "       [ 1.11186145,  0.76719889,  0.52439554, ..., -0.93374079,\n",
       "         1.15285765, -0.04529548],\n",
       "       [-0.43801872, -0.58710471, -0.64594226, ..., -0.55704884,\n",
       "         1.27616996, -1.1698944 ]])"
      ]
     },
     "execution_count": 18,
     "metadata": {},
     "output_type": "execute_result"
    }
   ],
   "source": [
    "data_rfs = StandardScaler().fit_transform(data_rfs)\n",
    "data_rfs"
   ]
  },
  {
   "cell_type": "code",
   "execution_count": 19,
   "metadata": {},
   "outputs": [
    {
     "data": {
      "text/html": [
       "<div>\n",
       "<style scoped>\n",
       "    .dataframe tbody tr th:only-of-type {\n",
       "        vertical-align: middle;\n",
       "    }\n",
       "\n",
       "    .dataframe tbody tr th {\n",
       "        vertical-align: top;\n",
       "    }\n",
       "\n",
       "    .dataframe thead th {\n",
       "        text-align: right;\n",
       "    }\n",
       "</style>\n",
       "<table border=\"1\" class=\"dataframe\">\n",
       "  <thead>\n",
       "    <tr style=\"text-align: right;\">\n",
       "      <th></th>\n",
       "      <th>modelMag_u</th>\n",
       "      <th>modelMag_g</th>\n",
       "      <th>modelMag_r</th>\n",
       "      <th>modelMag_i</th>\n",
       "      <th>modelMag_z</th>\n",
       "      <th>petroR90_r</th>\n",
       "      <th>Color</th>\n",
       "      <th>distancia_L</th>\n",
       "      <th>Mag_abs</th>\n",
       "    </tr>\n",
       "  </thead>\n",
       "  <tbody>\n",
       "    <tr>\n",
       "      <th>0</th>\n",
       "      <td>-0.999090</td>\n",
       "      <td>-1.393886</td>\n",
       "      <td>-1.551590</td>\n",
       "      <td>-1.605238</td>\n",
       "      <td>-1.647168</td>\n",
       "      <td>1.800382</td>\n",
       "      <td>-1.435296</td>\n",
       "      <td>0.886674</td>\n",
       "      <td>-1.902655</td>\n",
       "    </tr>\n",
       "    <tr>\n",
       "      <th>1</th>\n",
       "      <td>1.683514</td>\n",
       "      <td>1.439788</td>\n",
       "      <td>1.152159</td>\n",
       "      <td>0.959877</td>\n",
       "      <td>0.834097</td>\n",
       "      <td>-1.207803</td>\n",
       "      <td>-0.659870</td>\n",
       "      <td>1.595924</td>\n",
       "      <td>0.392110</td>\n",
       "    </tr>\n",
       "    <tr>\n",
       "      <th>2</th>\n",
       "      <td>-1.303806</td>\n",
       "      <td>-1.026847</td>\n",
       "      <td>-0.841626</td>\n",
       "      <td>-0.744481</td>\n",
       "      <td>-0.636239</td>\n",
       "      <td>1.741423</td>\n",
       "      <td>0.617708</td>\n",
       "      <td>-1.036898</td>\n",
       "      <td>-0.307202</td>\n",
       "    </tr>\n",
       "    <tr>\n",
       "      <th>3</th>\n",
       "      <td>1.522556</td>\n",
       "      <td>0.853167</td>\n",
       "      <td>0.687803</td>\n",
       "      <td>0.617538</td>\n",
       "      <td>0.577319</td>\n",
       "      <td>-0.500327</td>\n",
       "      <td>-1.342406</td>\n",
       "      <td>-0.531180</td>\n",
       "      <td>0.827652</td>\n",
       "    </tr>\n",
       "    <tr>\n",
       "      <th>4</th>\n",
       "      <td>0.152151</td>\n",
       "      <td>0.495498</td>\n",
       "      <td>0.658163</td>\n",
       "      <td>0.721518</td>\n",
       "      <td>0.785696</td>\n",
       "      <td>-0.409317</td>\n",
       "      <td>1.106679</td>\n",
       "      <td>0.283355</td>\n",
       "      <td>0.467535</td>\n",
       "    </tr>\n",
       "    <tr>\n",
       "      <th>...</th>\n",
       "      <td>...</td>\n",
       "      <td>...</td>\n",
       "      <td>...</td>\n",
       "      <td>...</td>\n",
       "      <td>...</td>\n",
       "      <td>...</td>\n",
       "      <td>...</td>\n",
       "      <td>...</td>\n",
       "      <td>...</td>\n",
       "    </tr>\n",
       "    <tr>\n",
       "      <th>18002</th>\n",
       "      <td>-0.158334</td>\n",
       "      <td>-0.445740</td>\n",
       "      <td>-0.529253</td>\n",
       "      <td>-0.540607</td>\n",
       "      <td>-0.572512</td>\n",
       "      <td>-0.302100</td>\n",
       "      <td>-0.823971</td>\n",
       "      <td>-0.127215</td>\n",
       "      <td>-0.507303</td>\n",
       "    </tr>\n",
       "    <tr>\n",
       "      <th>18003</th>\n",
       "      <td>0.285888</td>\n",
       "      <td>0.559126</td>\n",
       "      <td>0.686195</td>\n",
       "      <td>0.745158</td>\n",
       "      <td>0.745226</td>\n",
       "      <td>-0.653074</td>\n",
       "      <td>0.920601</td>\n",
       "      <td>0.466344</td>\n",
       "      <td>0.416143</td>\n",
       "    </tr>\n",
       "    <tr>\n",
       "      <th>18004</th>\n",
       "      <td>-0.043715</td>\n",
       "      <td>-0.522123</td>\n",
       "      <td>-0.727068</td>\n",
       "      <td>-0.766086</td>\n",
       "      <td>-0.833078</td>\n",
       "      <td>-0.624495</td>\n",
       "      <td>-1.450454</td>\n",
       "      <td>1.508711</td>\n",
       "      <td>-1.348468</td>\n",
       "    </tr>\n",
       "    <tr>\n",
       "      <th>18005</th>\n",
       "      <td>1.111861</td>\n",
       "      <td>0.767199</td>\n",
       "      <td>0.524396</td>\n",
       "      <td>0.429889</td>\n",
       "      <td>0.362592</td>\n",
       "      <td>-0.948130</td>\n",
       "      <td>-0.933741</td>\n",
       "      <td>1.152858</td>\n",
       "      <td>-0.045295</td>\n",
       "    </tr>\n",
       "    <tr>\n",
       "      <th>18006</th>\n",
       "      <td>-0.438019</td>\n",
       "      <td>-0.587105</td>\n",
       "      <td>-0.645942</td>\n",
       "      <td>-0.647829</td>\n",
       "      <td>-0.669017</td>\n",
       "      <td>1.080180</td>\n",
       "      <td>-0.557049</td>\n",
       "      <td>1.276170</td>\n",
       "      <td>-1.169894</td>\n",
       "    </tr>\n",
       "  </tbody>\n",
       "</table>\n",
       "<p>18007 rows × 9 columns</p>\n",
       "</div>"
      ],
      "text/plain": [
       "       modelMag_u  modelMag_g  modelMag_r  modelMag_i  modelMag_z  petroR90_r   \n",
       "0       -0.999090   -1.393886   -1.551590   -1.605238   -1.647168    1.800382  \\\n",
       "1        1.683514    1.439788    1.152159    0.959877    0.834097   -1.207803   \n",
       "2       -1.303806   -1.026847   -0.841626   -0.744481   -0.636239    1.741423   \n",
       "3        1.522556    0.853167    0.687803    0.617538    0.577319   -0.500327   \n",
       "4        0.152151    0.495498    0.658163    0.721518    0.785696   -0.409317   \n",
       "...           ...         ...         ...         ...         ...         ...   \n",
       "18002   -0.158334   -0.445740   -0.529253   -0.540607   -0.572512   -0.302100   \n",
       "18003    0.285888    0.559126    0.686195    0.745158    0.745226   -0.653074   \n",
       "18004   -0.043715   -0.522123   -0.727068   -0.766086   -0.833078   -0.624495   \n",
       "18005    1.111861    0.767199    0.524396    0.429889    0.362592   -0.948130   \n",
       "18006   -0.438019   -0.587105   -0.645942   -0.647829   -0.669017    1.080180   \n",
       "\n",
       "          Color  distancia_L   Mag_abs  \n",
       "0     -1.435296     0.886674 -1.902655  \n",
       "1     -0.659870     1.595924  0.392110  \n",
       "2      0.617708    -1.036898 -0.307202  \n",
       "3     -1.342406    -0.531180  0.827652  \n",
       "4      1.106679     0.283355  0.467535  \n",
       "...         ...          ...       ...  \n",
       "18002 -0.823971    -0.127215 -0.507303  \n",
       "18003  0.920601     0.466344  0.416143  \n",
       "18004 -1.450454     1.508711 -1.348468  \n",
       "18005 -0.933741     1.152858 -0.045295  \n",
       "18006 -0.557049     1.276170 -1.169894  \n",
       "\n",
       "[18007 rows x 9 columns]"
      ]
     },
     "execution_count": 19,
     "metadata": {},
     "output_type": "execute_result"
    }
   ],
   "source": [
    "data_rfs = pd.DataFrame(data_rfs, columns=variables)\n",
    "data_rfs"
   ]
  },
  {
   "cell_type": "markdown",
   "metadata": {},
   "source": [
    "# División en entrenamiento y evaluación\n",
    "   - Realizar la respectiva división conjunto de *train* y *test*."
   ]
  },
  {
   "cell_type": "markdown",
   "metadata": {},
   "source": [
    "A partir de los datos en las variables `X` e `y` separamos en train y en test:"
   ]
  },
  {
   "cell_type": "code",
   "execution_count": 20,
   "metadata": {},
   "outputs": [
    {
     "data": {
      "text/plain": [
       "0        3\n",
       "1        1\n",
       "2        2\n",
       "3        1\n",
       "4        1\n",
       "        ..\n",
       "32611    3\n",
       "32614    1\n",
       "32618    1\n",
       "32619    1\n",
       "32620    2\n",
       "Name: target, Length: 18007, dtype: int64"
      ]
     },
     "execution_count": 20,
     "metadata": {},
     "output_type": "execute_result"
    }
   ],
   "source": [
    "y = data_rf['target']\n",
    "y"
   ]
  },
  {
   "cell_type": "code",
   "execution_count": 21,
   "metadata": {},
   "outputs": [],
   "source": [
    "x_train, x_test, y_train, y_test = train_test_split(data_rfs, y, train_size=0.8, random_state = 8, stratify = y)"
   ]
  },
  {
   "cell_type": "markdown",
   "metadata": {},
   "source": [
    "# Radom Forest (RF)"
   ]
  },
  {
   "cell_type": "markdown",
   "metadata": {},
   "source": [
    "- Seleccione de variables fisicas e implente RF para la clasificación morfologica."
   ]
  },
  {
   "cell_type": "code",
   "execution_count": 22,
   "metadata": {},
   "outputs": [
    {
     "name": "stdout",
     "output_type": "stream",
     "text": [
      "Best Hyperparameters: {'max_depth': 38, 'max_features': 'log2', 'min_samples_leaf': 6, 'min_samples_split': 9, 'n_estimators': 151}\n"
     ]
    }
   ],
   "source": [
    "from sklearn.ensemble import RandomForestClassifier\n",
    "from sklearn.model_selection import RandomizedSearchCV\n",
    "from scipy.stats import randint\n",
    "\n",
    "# param_grid = {\n",
    "# 'n_stimators': [100, 200, 300],\n",
    "# 'max_depth': [None, 2, 5, 10 ],\n",
    "# 'min_samples_split': [2, 5, 10],\n",
    "# 'min_samples_leaf': [1, 2, 4],\n",
    "# 'max_features': ['sqrt', 'log2'],\n",
    "# 'class_weight': [None, 'balanced']\n",
    "# }\n",
    "# Define the hyperparameter space\n",
    "param_dist = {\n",
    "    'n_estimators': randint(10, 200),  # Random integer values between 10 and 200\n",
    "    'max_depth': randint(5, 50),       # Random integer values between 5 and 50\n",
    "    'min_samples_leaf': randint(1, 10),\n",
    "    'max_features': ['sqrt', 'log2'],\n",
    "    'min_samples_split': randint(2, 20) # Random integer values between 2 and 20\n",
    "}\n",
    "\n",
    "# Create a Random Forest model\n",
    "rf_model = RandomForestClassifier()\n",
    "\n",
    "# Create the RandomizedSearchCV object\n",
    "random_search = RandomizedSearchCV(\n",
    "    estimator=rf_model,\n",
    "    param_distributions=param_dist,\n",
    "    n_iter=10,  # Number of iterations for random search\n",
    "    cv=5,       # Cross-validation folds\n",
    "    scoring='accuracy',\n",
    "    n_jobs=-1   # Use all available CPU cores\n",
    ")\n",
    "\n",
    "# Fit the RandomizedSearchCV to your data\n",
    "random_search.fit(x_train, y_train)\n",
    "\n",
    "# Get the best hyperparameters found during the search\n",
    "best_params = random_search.best_params_\n",
    "print(\"Best Hyperparameters:\", best_params)\n",
    "\n",
    "# Get the best model found during the search\n",
    "best_model = random_search.best_estimator_"
   ]
  },
  {
   "cell_type": "code",
   "execution_count": 24,
   "metadata": {},
   "outputs": [],
   "source": [
    "from sklearn import ensemble"
   ]
  },
  {
   "cell_type": "code",
   "execution_count": 25,
   "metadata": {},
   "outputs": [],
   "source": [
    "# clf = ensemble.RandomForestClassifier(max_depth= 39, max_features= 'sqrt', min_samples_leaf= 4, min_samples_split= 5, n_estimators= 129)\n",
    "# clf.fit(x_train, y_train);\n",
    "# clf = ensemble.RandomForestClassifier(max_depth= 48, max_features= 'log2', min_samples_leaf= 4, min_samples_split= 4, n_estimators= 98)\n",
    "# clf = ensemble.RandomForestClassifier(max_depth= 48, max_features= 'log2', min_samples_leaf= 8, min_samples_split= 8, n_estimators= 85, class_weight='balanced')\n",
    "clf = ensemble.RandomForestClassifier(max_depth= 38, max_features= 'log2', min_samples_leaf= 6, min_samples_split= 9, n_estimators= 151, class_weight='balanced')\n",
    "clf.fit(x_train, y_train);"
   ]
  },
  {
   "cell_type": "code",
   "execution_count": 26,
   "metadata": {},
   "outputs": [
    {
     "name": "stdout",
     "output_type": "stream",
     "text": [
      "              precision    recall  f1-score   support\n",
      "\n",
      "           1       0.77      0.68      0.72      2074\n",
      "           2       0.62      0.64      0.63      1182\n",
      "           3       0.41      0.66      0.50       346\n",
      "\n",
      "    accuracy                           0.66      3602\n",
      "   macro avg       0.60      0.66      0.62      3602\n",
      "weighted avg       0.69      0.66      0.67      3602\n",
      "\n"
     ]
    }
   ],
   "source": [
    "predictions = clf.predict(x_test)\n",
    "print(classification_report(y_test, predictions))"
   ]
  },
  {
   "cell_type": "code",
   "execution_count": 27,
   "metadata": {
    "scrolled": true
   },
   "outputs": [
    {
     "data": {
      "image/png": "[encoded data removed]",
      "text/plain": [
       "<Figure size 640x480 with 2 Axes>"
      ]
     },
     "metadata": {},
     "output_type": "display_data"
    }
   ],
   "source": [
    "from sklearn.metrics import confusion_matrix\n",
    "cm = confusion_matrix(y_test, predictions, labels=clf.classes_)\n",
    "disp = ConfusionMatrixDisplay(confusion_matrix=cm, display_labels=clf.classes_)\n",
    "disp.plot()\n",
    "plt.show()"
   ]
  },
  {
   "cell_type": "markdown",
   "metadata": {},
   "source": [
    "##### Enfoque 1: Aplicar Sobremuestreo antes de la División"
   ]
  },
  {
   "cell_type": "code",
   "execution_count": 29,
   "metadata": {},
   "outputs": [],
   "source": [
    "# import numpy as np\n",
    "# from sklearn.model_selection import train_test_split\n",
    "# from sklearn.ensemble import RandomForestClassifier\n",
    "from imblearn.over_sampling import RandomOverSampler"
   ]
  },
  {
   "cell_type": "code",
   "execution_count": 30,
   "metadata": {},
   "outputs": [],
   "source": [
    "X = data_rfs"
   ]
  },
  {
   "cell_type": "code",
   "execution_count": 31,
   "metadata": {},
   "outputs": [],
   "source": [
    "# Supongamos que X es tu conjunto de características y y es tu variable objetivo\n",
    "\n",
    "# Aplica el sobremuestreo al conjunto completo\n",
    "oversampler = RandomOverSampler()\n",
    "X_resampled, y_resampled = oversampler.fit_resample(X, y)"
   ]
  },
  {
   "cell_type": "code",
   "execution_count": 32,
   "metadata": {},
   "outputs": [],
   "source": [
    "# Divide los datos en entrenamiento y prueba\n",
    "X_train, X_test, y_train1, y_test1 = train_test_split(X_resampled, y_resampled, test_size=0.2, random_state=42)"
   ]
  },
  {
   "cell_type": "code",
   "execution_count": 33,
   "metadata": {},
   "outputs": [
    {
     "name": "stdout",
     "output_type": "stream",
     "text": [
      "Best Hyperparameters: {'max_depth': 44, 'max_features': 'sqrt', 'min_samples_leaf': 3, 'min_samples_split': 9, 'n_estimators': 39}\n"
     ]
    }
   ],
   "source": [
    "param_dist = {\n",
    "    'n_estimators': randint(10, 200),  # Random integer values between 10 and 200\n",
    "    'max_depth': randint(5, 50),       # Random integer values between 5 and 50\n",
    "    'min_samples_leaf': randint(1, 10),\n",
    "    'max_features': ['sqrt', 'log2'],\n",
    "    'min_samples_split': randint(2, 20) # Random integer values between 2 and 20\n",
    "}\n",
    "\n",
    "# Create a Random Forest model\n",
    "rf_model = RandomForestClassifier()\n",
    "\n",
    "# Create the RandomizedSearchCV object\n",
    "random_search = RandomizedSearchCV(\n",
    "    estimator=rf_model,\n",
    "    param_distributions=param_dist,\n",
    "    n_iter=10,  # Number of iterations for random search\n",
    "    cv=5,       # Cross-validation folds\n",
    "    scoring='accuracy',\n",
    "    n_jobs=-1   # Use all available CPU cores\n",
    ")\n",
    "\n",
    "# Fit the RandomizedSearchCV to your data\n",
    "random_search.fit(X_train, y_train1)\n",
    "\n",
    "# Get the best hyperparameters found during the search\n",
    "best_params = random_search.best_params_\n",
    "print(\"Best Hyperparameters:\", best_params)\n",
    "\n",
    "# Get the best model found during the search\n",
    "best_model = random_search.best_estimator_"
   ]
  },
  {
   "cell_type": "code",
   "execution_count": 34,
   "metadata": {},
   "outputs": [],
   "source": [
    "# Entrena el clasificador Random Forest\n",
    "# clf1 = ensemble.RandomForestClassifier(max_depth= 41, max_features= 'sqrt', min_samples_leaf= 3, min_samples_split= 3, n_estimators= 52)\n",
    "clf1 = ensemble.RandomForestClassifier(max_depth= 44, max_features= 'sqrt', min_samples_leaf= 3, min_samples_split= 9, n_estimators= 39)\n",
    "clf1.fit(X_train, y_train1);\n",
    "# clf = RandomForestClassifier()\n",
    "# clf.fit(X_train, y_train)"
   ]
  },
  {
   "cell_type": "code",
   "execution_count": 35,
   "metadata": {},
   "outputs": [
    {
     "name": "stdout",
     "output_type": "stream",
     "text": [
      "              precision    recall  f1-score   support\n",
      "\n",
      "           1       0.84      0.67      0.74      2086\n",
      "           2       0.79      0.84      0.82      2058\n",
      "           3       0.87      0.99      0.92      2076\n",
      "\n",
      "    accuracy                           0.83      6220\n",
      "   macro avg       0.83      0.83      0.83      6220\n",
      "weighted avg       0.83      0.83      0.83      6220\n",
      "\n"
     ]
    }
   ],
   "source": [
    "predictions1 = clf1.predict(X_test)\n",
    "print(classification_report(y_test1, predictions1))"
   ]
  },
  {
   "cell_type": "code",
   "execution_count": 36,
   "metadata": {},
   "outputs": [
    {
     "data": {
      "image/png": "[encoded data removed]",
      "text/plain": [
       "<Figure size 640x480 with 2 Axes>"
      ]
     },
     "metadata": {},
     "output_type": "display_data"
    }
   ],
   "source": [
    "cm1 = confusion_matrix(y_test1, predictions1, labels=clf.classes_)\n",
    "disp1 = ConfusionMatrixDisplay(confusion_matrix=cm1, display_labels=clf.classes_)\n",
    "disp1.plot()\n",
    "plt.show()"
   ]
  },
  {
   "cell_type": "markdown",
   "metadata": {},
   "source": [
    "##### Enfoque 2: Aplicar Sobremuestreo después de la División"
   ]
  },
  {
   "cell_type": "markdown",
   "metadata": {},
   "source": [
    "Vuelvo a usar la opcion stratify y class_weight='balanced'"
   ]
  },
  {
   "cell_type": "code",
   "execution_count": 37,
   "metadata": {},
   "outputs": [],
   "source": [
    "X_train1, X_test1, y_train2, y_test2 = train_test_split(X, y, test_size=0.2, random_state=42, stratify = y)"
   ]
  },
  {
   "cell_type": "code",
   "execution_count": 38,
   "metadata": {},
   "outputs": [],
   "source": [
    "# Aplica el sobremuestreo solo al conjunto de entrenamiento\n",
    "# oversampler = RandomOverSampler()\n",
    "X_train_resampled, y_train_resampled = oversampler.fit_resample(X_train1, y_train2)\n"
   ]
  },
  {
   "cell_type": "code",
   "execution_count": 39,
   "metadata": {},
   "outputs": [
    {
     "name": "stdout",
     "output_type": "stream",
     "text": [
      "Best Hyperparameters: {'max_depth': 24, 'max_features': 'sqrt', 'min_samples_leaf': 1, 'min_samples_split': 3, 'n_estimators': 110}\n"
     ]
    }
   ],
   "source": [
    "param_dist = {\n",
    "    'n_estimators': randint(10, 200),  # Random integer values between 10 and 200\n",
    "    'max_depth': randint(5, 50),       # Random integer values between 5 and 50\n",
    "    'min_samples_leaf': randint(1, 10),\n",
    "    'max_features': ['sqrt', 'log2'],\n",
    "    'min_samples_split': randint(2, 20) # Random integer values between 2 and 20\n",
    "}\n",
    "\n",
    "# Create a Random Forest model\n",
    "rf_model = RandomForestClassifier()\n",
    "\n",
    "# Create the RandomizedSearchCV object\n",
    "random_search = RandomizedSearchCV(\n",
    "    estimator=rf_model,\n",
    "    param_distributions=param_dist,\n",
    "    n_iter=10,  # Number of iterations for random search\n",
    "    cv=5,       # Cross-validation folds\n",
    "    scoring='accuracy',\n",
    "    n_jobs=-1   # Use all available CPU cores\n",
    ")\n",
    "\n",
    "# Fit the RandomizedSearchCV to your data\n",
    "random_search.fit(X_train_resampled, y_train_resampled)\n",
    "\n",
    "# Get the best hyperparameters found during the search\n",
    "best_params = random_search.best_params_\n",
    "print(\"Best Hyperparameters:\", best_params)\n",
    "\n",
    "# Get the best model found during the search\n",
    "best_model = random_search.best_estimator_"
   ]
  },
  {
   "cell_type": "code",
   "execution_count": 41,
   "metadata": {},
   "outputs": [],
   "source": [
    "# Entrena el clasificador Random Forest\n",
    "# clf = RandomForestClassifier()\n",
    "# clf2 = ensemble.RandomForestClassifier(max_depth= 48, max_features= 'sqrt', min_samples_leaf= 4, min_samples_split= 4, n_estimators= 42)\n",
    "# class_weight='balanced'\n",
    "clf2 = ensemble.RandomForestClassifier(max_depth= 24, max_features= 'sqrt', min_samples_leaf= 1, min_samples_split= 3, n_estimators= 110, class_weight='balanced')\n",
    "clf2.fit(X_train_resampled, y_train_resampled);\n",
    "# clf.fit(X_train_resampled, y_train_resampled)"
   ]
  },
  {
   "cell_type": "code",
   "execution_count": 42,
   "metadata": {},
   "outputs": [
    {
     "name": "stdout",
     "output_type": "stream",
     "text": [
      "              precision    recall  f1-score   support\n",
      "\n",
      "           1       0.76      0.75      0.75      2074\n",
      "           2       0.66      0.64      0.65      1182\n",
      "           3       0.46      0.55      0.50       346\n",
      "\n",
      "    accuracy                           0.69      3602\n",
      "   macro avg       0.62      0.64      0.63      3602\n",
      "weighted avg       0.70      0.69      0.69      3602\n",
      "\n"
     ]
    }
   ],
   "source": [
    "predictions2 = clf2.predict(X_test1)\n",
    "print(classification_report(y_test2, predictions2))"
   ]
  },
  {
   "cell_type": "code",
   "execution_count": 43,
   "metadata": {},
   "outputs": [
    {
     "name": "stdout",
     "output_type": "stream",
     "text": [
      "Accuracy: 0.8092726263187118\n"
     ]
    }
   ],
   "source": [
    "# Evalúa el modelo\n",
    "accuracy = clf.score(X_test1, y_test2)\n",
    "print(f'Accuracy: {accuracy}')"
   ]
  },
  {
   "cell_type": "code",
   "execution_count": 44,
   "metadata": {
    "scrolled": true
   },
   "outputs": [
    {
     "data": {
      "image/png": "[encoded data removed]",
      "text/plain": [
       "<Figure size 640x480 with 2 Axes>"
      ]
     },
     "metadata": {},
     "output_type": "display_data"
    }
   ],
   "source": [
    "cm2 = confusion_matrix(y_test2, predictions2, labels=clf.classes_)\n",
    "disp2 = ConfusionMatrixDisplay(confusion_matrix=cm2, display_labels=clf.classes_)\n",
    "disp2.plot()\n",
    "plt.show()"
   ]
  },
  {
   "cell_type": "markdown",
   "metadata": {},
   "source": [
    "##### SMOTE"
   ]
  },
  {
   "cell_type": "markdown",
   "metadata": {},
   "source": [
    "Con este modulo uso class_weight='balanced' pero no puedo usar stratify."
   ]
  },
  {
   "cell_type": "code",
   "execution_count": 45,
   "metadata": {},
   "outputs": [],
   "source": [
    "from imblearn.over_sampling import SMOTE"
   ]
  },
  {
   "cell_type": "code",
   "execution_count": 48,
   "metadata": {},
   "outputs": [],
   "source": [
    "# Apply SMOTE\n",
    "smote = SMOTE(sampling_strategy='auto', random_state=42)\n",
    "X_resampled1, y_resampled1 = smote.fit_resample(X, y)"
   ]
  },
  {
   "cell_type": "code",
   "execution_count": 50,
   "metadata": {},
   "outputs": [],
   "source": [
    "X_train2, X_test2, y_train3, y_test3 = train_test_split(X_resampled1, y_resampled1, test_size=0.2, random_state=42)"
   ]
  },
  {
   "cell_type": "code",
   "execution_count": 51,
   "metadata": {},
   "outputs": [
    {
     "name": "stdout",
     "output_type": "stream",
     "text": [
      "Best Hyperparameters: {'max_depth': 39, 'max_features': 'sqrt', 'min_samples_leaf': 1, 'min_samples_split': 8, 'n_estimators': 146}\n"
     ]
    }
   ],
   "source": [
    "param_dist = {\n",
    "    'n_estimators': randint(10, 200),  # Random integer values between 10 and 200\n",
    "    'max_depth': randint(5, 50),       # Random integer values between 5 and 50\n",
    "    'min_samples_leaf': randint(1, 10),\n",
    "    'max_features': ['sqrt', 'log2'],\n",
    "    'min_samples_split': randint(2, 20) # Random integer values between 2 and 20\n",
    "}\n",
    "\n",
    "# Create a Random Forest model\n",
    "rf_model = RandomForestClassifier()\n",
    "\n",
    "# Create the RandomizedSearchCV object\n",
    "random_search = RandomizedSearchCV(\n",
    "    estimator=rf_model,\n",
    "    param_distributions=param_dist,\n",
    "    n_iter=10,  # Number of iterations for random search\n",
    "    cv=5,       # Cross-validation folds\n",
    "    scoring='accuracy',\n",
    "    n_jobs=-1   # Use all available CPU cores\n",
    ")\n",
    "\n",
    "# Fit the RandomizedSearchCV to your data\n",
    "random_search.fit(X_train2, y_train3)\n",
    "\n",
    "# Get the best hyperparameters found during the search\n",
    "best_params = random_search.best_params_\n",
    "print(\"Best Hyperparameters:\", best_params)\n",
    "\n",
    "# Get the best model found during the search\n",
    "best_model = random_search.best_estimator_"
   ]
  },
  {
   "cell_type": "code",
   "execution_count": 52,
   "metadata": {},
   "outputs": [],
   "source": [
    "clf3 = ensemble.RandomForestClassifier(max_depth= 39, max_features= 'sqrt', min_samples_leaf= 1, min_samples_split= 8, n_estimators= 146, class_weight='balanced')\n",
    "clf3.fit(X_train2, y_train3);"
   ]
  },
  {
   "cell_type": "code",
   "execution_count": 53,
   "metadata": {},
   "outputs": [
    {
     "name": "stdout",
     "output_type": "stream",
     "text": [
      "              precision    recall  f1-score   support\n",
      "\n",
      "           1       0.77      0.64      0.70      2086\n",
      "           2       0.77      0.80      0.79      2058\n",
      "           3       0.83      0.94      0.88      2076\n",
      "\n",
      "    accuracy                           0.79      6220\n",
      "   macro avg       0.79      0.79      0.79      6220\n",
      "weighted avg       0.79      0.79      0.79      6220\n",
      "\n"
     ]
    }
   ],
   "source": [
    "predictions3 = clf3.predict(X_test2)\n",
    "print(classification_report(y_test3, predictions3))"
   ]
  },
  {
   "cell_type": "code",
   "execution_count": 54,
   "metadata": {},
   "outputs": [
    {
     "data": {
      "image/png": "[encoded data removed]",
      "text/plain": [
       "<Figure size 640x480 with 2 Axes>"
      ]
     },
     "metadata": {},
     "output_type": "display_data"
    }
   ],
   "source": [
    "cm3 = confusion_matrix(y_test3, predictions3, labels=clf.classes_)\n",
    "disp3 = ConfusionMatrixDisplay(confusion_matrix=cm3, display_labels=clf.classes_)\n",
    "disp3.plot()\n",
    "plt.show()"
   ]
  },
  {
   "cell_type": "code",
   "execution_count": 55,
   "metadata": {},
   "outputs": [],
   "source": [
    "from imblearn.under_sampling import RandomUnderSampler"
   ]
  },
  {
   "cell_type": "code",
   "execution_count": 56,
   "metadata": {},
   "outputs": [],
   "source": [
    "undersampler = RandomUnderSampler(sampling_strategy='auto', random_state=42)\n",
    "X_resampled2, y_resampled2 = undersampler.fit_resample(X_train, y_train)"
   ]
  },
  {
   "cell_type": "code",
   "execution_count": 57,
   "metadata": {},
   "outputs": [],
   "source": [
    "X_train3, X_test3, y_train4, y_test4 = train_test_split(X_resampled2, y_resampled2, test_size=0.2, random_state=42)"
   ]
  },
  {
   "cell_type": "code",
   "execution_count": 58,
   "metadata": {},
   "outputs": [
    {
     "name": "stdout",
     "output_type": "stream",
     "text": [
      "Best Hyperparameters: {'max_depth': 39, 'max_features': 'log2', 'min_samples_leaf': 9, 'min_samples_split': 8, 'n_estimators': 57}\n"
     ]
    }
   ],
   "source": [
    "param_dist = {\n",
    "    'n_estimators': randint(10, 200),  # Random integer values between 10 and 200\n",
    "    'max_depth': randint(5, 50),       # Random integer values between 5 and 50\n",
    "    'min_samples_leaf': randint(1, 10),\n",
    "    'max_features': ['sqrt', 'log2'],\n",
    "    'min_samples_split': randint(2, 20) # Random integer values between 2 and 20\n",
    "}\n",
    "\n",
    "# Create a Random Forest model\n",
    "rf_model = RandomForestClassifier()\n",
    "\n",
    "# Create the RandomizedSearchCV object\n",
    "random_search = RandomizedSearchCV(\n",
    "    estimator=rf_model,\n",
    "    param_distributions=param_dist,\n",
    "    n_iter=10,  # Number of iterations for random search\n",
    "    cv=5,       # Cross-validation folds\n",
    "    scoring='accuracy',\n",
    "    n_jobs=-1   # Use all available CPU cores\n",
    ")\n",
    "\n",
    "# Fit the RandomizedSearchCV to your data\n",
    "random_search.fit(X_train3, y_train4)\n",
    "\n",
    "# Get the best hyperparameters found during the search\n",
    "best_params = random_search.best_params_\n",
    "print(\"Best Hyperparameters:\", best_params)\n",
    "\n",
    "# Get the best model found during the search\n",
    "best_model = random_search.best_estimator_"
   ]
  },
  {
   "cell_type": "code",
   "execution_count": 59,
   "metadata": {},
   "outputs": [],
   "source": [
    "clf4 = ensemble.RandomForestClassifier(max_depth= 39, max_features= 'log2', min_samples_leaf= 9, min_samples_split= 8, n_estimators= 57, class_weight='balanced')\n",
    "clf4.fit(X_train3, y_train4);"
   ]
  },
  {
   "cell_type": "code",
   "execution_count": 60,
   "metadata": {},
   "outputs": [
    {
     "name": "stdout",
     "output_type": "stream",
     "text": [
      "              precision    recall  f1-score   support\n",
      "\n",
      "           1       0.36      0.36      0.36       303\n",
      "           2       0.35      0.38      0.36       270\n",
      "           3       0.26      0.25      0.26       258\n",
      "\n",
      "    accuracy                           0.33       831\n",
      "   macro avg       0.33      0.33      0.33       831\n",
      "weighted avg       0.33      0.33      0.33       831\n",
      "\n"
     ]
    }
   ],
   "source": [
    "predictions4 = clf4.predict(X_test3)\n",
    "print(classification_report(y_test4, predictions4))"
   ]
  },
  {
   "cell_type": "code",
   "execution_count": 62,
   "metadata": {},
   "outputs": [
    {
     "data": {
      "image/png": "[encoded data removed]",
      "text/plain": [
       "<Figure size 640x480 with 2 Axes>"
      ]
     },
     "metadata": {},
     "output_type": "display_data"
    }
   ],
   "source": [
    "cm4 = confusion_matrix(y_test4, predictions4, labels=clf.classes_)\n",
    "disp4 = ConfusionMatrixDisplay(confusion_matrix=cm4, display_labels=clf.classes_)\n",
    "disp4.plot()\n",
    "plt.show()"
   ]
  },
  {
   "cell_type": "code",
   "execution_count": null,
   "metadata": {},
   "outputs": [],
   "source": [
    "RandomForestClassifier?"
   ]
  },
  {
   "cell_type": "markdown",
   "metadata": {},
   "source": [
    "# Neural Networks"
   ]
  },
  {
   "cell_type": "markdown",
   "metadata": {},
   "source": [
    "Entrene una red neuronal convolucional sobre el conjunto de imágenes."
   ]
  },
  {
   "cell_type": "markdown",
   "metadata": {},
   "source": [
    "# Conclusiones"
   ]
  }
 ],
 "metadata": {
  "kernelspec": {
   "display_name": "Python 3",
   "language": "python",
   "name": "python3"
  },
  "language_info": {
   "codemirror_mode": {
    "name": "ipython",
    "version": 3
   },
   "file_extension": ".py",
   "mimetype": "text/x-python",
   "name": "python",
   "nbconvert_exporter": "python",
   "pygments_lexer": "ipython3",
   "version": "3.6.13"
  }
 },
 "nbformat": 4,
 "nbformat_minor": 4
}
